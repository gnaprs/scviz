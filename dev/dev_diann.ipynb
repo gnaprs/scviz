{
 "cells": [
  {
   "cell_type": "code",
   "execution_count": 1,
   "metadata": {},
   "outputs": [],
   "source": [
    "from scviz import pAnnData as pAnnData\n",
    "from scviz import plotting as scplt\n",
    "from scviz import utils as scutils\n",
    "import scanpy as sc\n",
    "\n",
    "import numpy as np\n",
    "import pandas as pd\n",
    "\n",
    "import matplotlib.pyplot as plt\n",
    "import seaborn as sns\n",
    "sns.set_theme(context='paper', style='ticks')\n",
    "\n",
    "import matplotlib.patches as mpatches\n",
    "import matplotlib.colors as mcolors\n",
    "from matplotlib.lines import Line2D"
   ]
  },
  {
   "cell_type": "code",
   "execution_count": 3,
   "metadata": {},
   "outputs": [
    {
     "name": "stdout",
     "output_type": "stream",
     "text": [
      "--------------------------\n",
      "Starting import...\n",
      "--------------------------\n",
      "Importing from report.parquet\n",
      "Number of files: 6\n",
      "Number of proteins: 9639\n",
      "Number of files: 6\n",
      "Number of peptides: 141043\n",
      "RS matrix successfully computed\n",
      "Setting rs matrix with dimensions (141043, 9639)\n",
      "Transposing rs matrix to protein x peptide format\n",
      "pAnnData object created. Use `print(pdata)` to view the object.\n"
     ]
    }
   ],
   "source": [
    "# David_20250203_OA_DIA_TS25_1hr_100ng_BK-892_01\n",
    "obs_columns = ['User','Date','MS','Acquisition','Column','Grad','InputAmount','Sample','Rep']\n",
    "pdata = pAnnData.import_diann(report_file='report.parquet', obs_columns=obs_columns)"
   ]
  },
  {
   "cell_type": "code",
   "execution_count": 4,
   "metadata": {},
   "outputs": [
    {
     "data": {
      "text/html": [
       "<div>\n",
       "<style scoped>\n",
       "    .dataframe tbody tr th:only-of-type {\n",
       "        vertical-align: middle;\n",
       "    }\n",
       "\n",
       "    .dataframe tbody tr th {\n",
       "        vertical-align: top;\n",
       "    }\n",
       "\n",
       "    .dataframe thead th {\n",
       "        text-align: right;\n",
       "    }\n",
       "</style>\n",
       "<table border=\"1\" class=\"dataframe\">\n",
       "  <thead>\n",
       "    <tr style=\"text-align: right;\">\n",
       "      <th></th>\n",
       "      <th>User</th>\n",
       "      <th>Date</th>\n",
       "      <th>MS</th>\n",
       "      <th>Acquisition</th>\n",
       "      <th>Column</th>\n",
       "      <th>Grad</th>\n",
       "      <th>InputAmount</th>\n",
       "      <th>Sample</th>\n",
       "      <th>Rep</th>\n",
       "      <th>protein_quant</th>\n",
       "      <th>protein_count</th>\n",
       "      <th>protein_abundance_sum</th>\n",
       "      <th>peptide_quant</th>\n",
       "      <th>peptide_count</th>\n",
       "      <th>peptide_abundance_sum</th>\n",
       "    </tr>\n",
       "  </thead>\n",
       "  <tbody>\n",
       "    <tr>\n",
       "      <th>David_20250203_OA_DIA_TS25_1hr_100ng_BK-892_01</th>\n",
       "      <td>David</td>\n",
       "      <td>20250203</td>\n",
       "      <td>OA</td>\n",
       "      <td>DIA</td>\n",
       "      <td>TS25</td>\n",
       "      <td>1hr</td>\n",
       "      <td>100ng</td>\n",
       "      <td>BK-892</td>\n",
       "      <td>01</td>\n",
       "      <td>0.931632</td>\n",
       "      <td>8980</td>\n",
       "      <td>1.636838e+11</td>\n",
       "      <td>0.858660</td>\n",
       "      <td>121108</td>\n",
       "      <td>6.413548e+11</td>\n",
       "    </tr>\n",
       "    <tr>\n",
       "      <th>David_20250203_OA_DIA_TS25_1hr_100ng_BK-1078_02</th>\n",
       "      <td>David</td>\n",
       "      <td>20250203</td>\n",
       "      <td>OA</td>\n",
       "      <td>DIA</td>\n",
       "      <td>TS25</td>\n",
       "      <td>1hr</td>\n",
       "      <td>100ng</td>\n",
       "      <td>BK-1078</td>\n",
       "      <td>02</td>\n",
       "      <td>0.941280</td>\n",
       "      <td>9073</td>\n",
       "      <td>1.728928e+11</td>\n",
       "      <td>0.915621</td>\n",
       "      <td>129142</td>\n",
       "      <td>6.460753e+11</td>\n",
       "    </tr>\n",
       "    <tr>\n",
       "      <th>David_20250203_OA_DIA_TS25_1hr_100ng_BK-1355_03</th>\n",
       "      <td>David</td>\n",
       "      <td>20250203</td>\n",
       "      <td>OA</td>\n",
       "      <td>DIA</td>\n",
       "      <td>TS25</td>\n",
       "      <td>1hr</td>\n",
       "      <td>100ng</td>\n",
       "      <td>BK-1355</td>\n",
       "      <td>03</td>\n",
       "      <td>0.940969</td>\n",
       "      <td>9070</td>\n",
       "      <td>1.651625e+11</td>\n",
       "      <td>0.896053</td>\n",
       "      <td>126382</td>\n",
       "      <td>6.412685e+11</td>\n",
       "    </tr>\n",
       "    <tr>\n",
       "      <th>David_20250203_OA_DIA_TS25_1hr_100ng_BK-Ren_06</th>\n",
       "      <td>David</td>\n",
       "      <td>20250203</td>\n",
       "      <td>OA</td>\n",
       "      <td>DIA</td>\n",
       "      <td>TS25</td>\n",
       "      <td>1hr</td>\n",
       "      <td>100ng</td>\n",
       "      <td>BK-Ren</td>\n",
       "      <td>06</td>\n",
       "      <td>0.943666</td>\n",
       "      <td>9096</td>\n",
       "      <td>1.696736e+11</td>\n",
       "      <td>0.911360</td>\n",
       "      <td>128541</td>\n",
       "      <td>6.377371e+11</td>\n",
       "    </tr>\n",
       "    <tr>\n",
       "      <th>David_20250203_OA_DIA_TS25_1hr_100ng_BK-Rosa_05</th>\n",
       "      <td>David</td>\n",
       "      <td>20250203</td>\n",
       "      <td>OA</td>\n",
       "      <td>DIA</td>\n",
       "      <td>TS25</td>\n",
       "      <td>1hr</td>\n",
       "      <td>100ng</td>\n",
       "      <td>BK-Rosa</td>\n",
       "      <td>05</td>\n",
       "      <td>0.930076</td>\n",
       "      <td>8965</td>\n",
       "      <td>1.786566e+11</td>\n",
       "      <td>0.878555</td>\n",
       "      <td>123914</td>\n",
       "      <td>6.550592e+11</td>\n",
       "    </tr>\n",
       "    <tr>\n",
       "      <th>David_20250203_OA_DIA_TS25_1hr_100ng_BK-Luc_04</th>\n",
       "      <td>David</td>\n",
       "      <td>20250203</td>\n",
       "      <td>OA</td>\n",
       "      <td>DIA</td>\n",
       "      <td>TS25</td>\n",
       "      <td>1hr</td>\n",
       "      <td>100ng</td>\n",
       "      <td>BK-Luc</td>\n",
       "      <td>04</td>\n",
       "      <td>0.069094</td>\n",
       "      <td>666</td>\n",
       "      <td>8.770053e+10</td>\n",
       "      <td>0.010160</td>\n",
       "      <td>1433</td>\n",
       "      <td>1.720556e+11</td>\n",
       "    </tr>\n",
       "  </tbody>\n",
       "</table>\n",
       "</div>"
      ],
      "text/plain": [
       "                                                  User      Date  MS  \\\n",
       "David_20250203_OA_DIA_TS25_1hr_100ng_BK-892_01   David  20250203  OA   \n",
       "David_20250203_OA_DIA_TS25_1hr_100ng_BK-1078_02  David  20250203  OA   \n",
       "David_20250203_OA_DIA_TS25_1hr_100ng_BK-1355_03  David  20250203  OA   \n",
       "David_20250203_OA_DIA_TS25_1hr_100ng_BK-Ren_06   David  20250203  OA   \n",
       "David_20250203_OA_DIA_TS25_1hr_100ng_BK-Rosa_05  David  20250203  OA   \n",
       "David_20250203_OA_DIA_TS25_1hr_100ng_BK-Luc_04   David  20250203  OA   \n",
       "\n",
       "                                                Acquisition Column Grad  \\\n",
       "David_20250203_OA_DIA_TS25_1hr_100ng_BK-892_01          DIA   TS25  1hr   \n",
       "David_20250203_OA_DIA_TS25_1hr_100ng_BK-1078_02         DIA   TS25  1hr   \n",
       "David_20250203_OA_DIA_TS25_1hr_100ng_BK-1355_03         DIA   TS25  1hr   \n",
       "David_20250203_OA_DIA_TS25_1hr_100ng_BK-Ren_06          DIA   TS25  1hr   \n",
       "David_20250203_OA_DIA_TS25_1hr_100ng_BK-Rosa_05         DIA   TS25  1hr   \n",
       "David_20250203_OA_DIA_TS25_1hr_100ng_BK-Luc_04          DIA   TS25  1hr   \n",
       "\n",
       "                                                InputAmount   Sample Rep  \\\n",
       "David_20250203_OA_DIA_TS25_1hr_100ng_BK-892_01        100ng   BK-892  01   \n",
       "David_20250203_OA_DIA_TS25_1hr_100ng_BK-1078_02       100ng  BK-1078  02   \n",
       "David_20250203_OA_DIA_TS25_1hr_100ng_BK-1355_03       100ng  BK-1355  03   \n",
       "David_20250203_OA_DIA_TS25_1hr_100ng_BK-Ren_06        100ng   BK-Ren  06   \n",
       "David_20250203_OA_DIA_TS25_1hr_100ng_BK-Rosa_05       100ng  BK-Rosa  05   \n",
       "David_20250203_OA_DIA_TS25_1hr_100ng_BK-Luc_04        100ng   BK-Luc  04   \n",
       "\n",
       "                                                 protein_quant  protein_count  \\\n",
       "David_20250203_OA_DIA_TS25_1hr_100ng_BK-892_01        0.931632           8980   \n",
       "David_20250203_OA_DIA_TS25_1hr_100ng_BK-1078_02       0.941280           9073   \n",
       "David_20250203_OA_DIA_TS25_1hr_100ng_BK-1355_03       0.940969           9070   \n",
       "David_20250203_OA_DIA_TS25_1hr_100ng_BK-Ren_06        0.943666           9096   \n",
       "David_20250203_OA_DIA_TS25_1hr_100ng_BK-Rosa_05       0.930076           8965   \n",
       "David_20250203_OA_DIA_TS25_1hr_100ng_BK-Luc_04        0.069094            666   \n",
       "\n",
       "                                                 protein_abundance_sum  \\\n",
       "David_20250203_OA_DIA_TS25_1hr_100ng_BK-892_01            1.636838e+11   \n",
       "David_20250203_OA_DIA_TS25_1hr_100ng_BK-1078_02           1.728928e+11   \n",
       "David_20250203_OA_DIA_TS25_1hr_100ng_BK-1355_03           1.651625e+11   \n",
       "David_20250203_OA_DIA_TS25_1hr_100ng_BK-Ren_06            1.696736e+11   \n",
       "David_20250203_OA_DIA_TS25_1hr_100ng_BK-Rosa_05           1.786566e+11   \n",
       "David_20250203_OA_DIA_TS25_1hr_100ng_BK-Luc_04            8.770053e+10   \n",
       "\n",
       "                                                 peptide_quant  peptide_count  \\\n",
       "David_20250203_OA_DIA_TS25_1hr_100ng_BK-892_01        0.858660         121108   \n",
       "David_20250203_OA_DIA_TS25_1hr_100ng_BK-1078_02       0.915621         129142   \n",
       "David_20250203_OA_DIA_TS25_1hr_100ng_BK-1355_03       0.896053         126382   \n",
       "David_20250203_OA_DIA_TS25_1hr_100ng_BK-Ren_06        0.911360         128541   \n",
       "David_20250203_OA_DIA_TS25_1hr_100ng_BK-Rosa_05       0.878555         123914   \n",
       "David_20250203_OA_DIA_TS25_1hr_100ng_BK-Luc_04        0.010160           1433   \n",
       "\n",
       "                                                 peptide_abundance_sum  \n",
       "David_20250203_OA_DIA_TS25_1hr_100ng_BK-892_01            6.413548e+11  \n",
       "David_20250203_OA_DIA_TS25_1hr_100ng_BK-1078_02           6.460753e+11  \n",
       "David_20250203_OA_DIA_TS25_1hr_100ng_BK-1355_03           6.412685e+11  \n",
       "David_20250203_OA_DIA_TS25_1hr_100ng_BK-Ren_06            6.377371e+11  \n",
       "David_20250203_OA_DIA_TS25_1hr_100ng_BK-Rosa_05           6.550592e+11  \n",
       "David_20250203_OA_DIA_TS25_1hr_100ng_BK-Luc_04            1.720556e+11  "
      ]
     },
     "execution_count": 4,
     "metadata": {},
     "output_type": "execute_result"
    }
   ],
   "source": [
    "pdata.summary"
   ]
  },
  {
   "cell_type": "code",
   "execution_count": 7,
   "metadata": {},
   "outputs": [
    {
     "data": {
      "text/plain": [
       "<Axes: xlabel='Sample', ylabel='protein_count'>"
      ]
     },
     "execution_count": 7,
     "metadata": {},
     "output_type": "execute_result"
    },
    {
     "data": {
      "image/png": "[encoded data removed]",
      "text/plain": [
       "<Figure size 640x480 with 1 Axes>"
      ]
     },
     "metadata": {},
     "output_type": "display_data"
    }
   ],
   "source": [
    "fig, ax = plt.subplots()\n",
    "scplt.plot_summary(ax, pdata, classes = \"Sample\")"
   ]
  },
  {
   "cell_type": "code",
   "execution_count": 15,
   "metadata": {},
   "outputs": [
    {
     "data": {
      "text/plain": [
       "['Q6PCD5']"
      ]
     },
     "execution_count": 15,
     "metadata": {},
     "output_type": "execute_result"
    }
   ],
   "source": [
    "# find proteins that contain 'RFWD' in their gene name, prot.var['Genes']\n",
    "prot = pdata.prot\n",
    "rfwd_proteins = prot.var_names[prot.var['Genes'].str.contains('RFWD')]\n",
    "# get list of names from rfwd_proteins\n",
    "rfwd_proteins.tolist()"
   ]
  },
  {
   "cell_type": "code",
   "execution_count": 16,
   "metadata": {},
   "outputs": [
    {
     "data": {
      "image/png": "[encoded data removed]",
      "text/plain": [
       "<Figure size 804.6x480 with 1 Axes>"
      ]
     },
     "metadata": {},
     "output_type": "display_data"
    }
   ],
   "source": [
    "# convert pdata.prot.obs['Sample'] to categorical\n",
    "pdata.prot.obs['Sample'] = pd.Categorical(pdata.prot.obs['Sample'])\n",
    "sc.pl.violin(pdata.prot, rfwd_proteins.tolist(), groupby='Sample')\n",
    "#pdata.prot[:,'P14618-2']"
   ]
  }
 ],
 "metadata": {
  "kernelspec": {
   "display_name": "base",
   "language": "python",
   "name": "python3"
  },
  "language_info": {
   "codemirror_mode": {
    "name": "ipython",
    "version": 3
   },
   "file_extension": ".py",
   "mimetype": "text/x-python",
   "name": "python",
   "nbconvert_exporter": "python",
   "pygments_lexer": "ipython3",
   "version": "3.8.18"
  }
 },
 "nbformat": 4,
 "nbformat_minor": 2
}

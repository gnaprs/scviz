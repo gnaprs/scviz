{
 "cells": [
  {
   "cell_type": "code",
   "execution_count": 1,
   "metadata": {},
   "outputs": [],
   "source": [
    "from scviz import pAnnData as pAnnData\n",
    "from scviz import plotting as scplt\n",
    "from scviz import utils as scutils\n",
    "import scanpy as sc\n",
    "\n",
    "import numpy as np\n",
    "import pandas as pd\n",
    "\n",
    "import matplotlib.pyplot as plt\n",
    "import seaborn as sns\n",
    "sns.set_theme(context='paper', style='ticks')\n",
    "\n",
    "import matplotlib.patches as mpatches\n",
    "import matplotlib.colors as mcolors\n",
    "from matplotlib.lines import Line2D"
   ]
  },
  {
   "cell_type": "code",
   "execution_count": 3,
   "metadata": {},
   "outputs": [
    {
     "name": "stdout",
     "output_type": "stream",
     "text": [
      "--------------------------\n",
      "Starting import...\n",
      "--------------------------\n",
      "Importing from report.tsv\n",
      "Number of files: 10\n",
      "Number of proteins: 7372\n",
      "Number of files: 10\n",
      "Number of peptides: 51510\n",
      "RS matrix successfully computed\n",
      "Setting rs matrix with dimensions (51510, 7372)\n",
      "Transposing rs matrix to protein x peptide format\n",
      "pAnnData object created. Use `print(pdata)` to view the object.\n"
     ]
    }
   ],
   "source": [
    "obs_columns = ['name','load','enzyme','date','instrument','acquisition','method','gradient','replicate']\n",
    "\n",
    "pdata = pAnnData.import_diann('report.tsv', obs_columns=obs_columns)"
   ]
  },
  {
   "cell_type": "code",
   "execution_count": 5,
   "metadata": {},
   "outputs": [
    {
     "data": {
      "text/plain": [
       "pAnnData object\n",
       "Protein (shape: 10 files by 7372 proteins)\n",
       "obs: name, load, enzyme, date, instrument...\n",
       "var: First.Protein.Description, Genes\n",
       "obsm: \n",
       "layers: \n",
       "\n",
       "Peptide (shape: 10 files by 51510 peptides)\n",
       "obs: name, load, enzyme, date, instrument...\n",
       "var: Genes, Protein.Group, Precursor.Charge, Modified.Sequence, Stripped.Sequence\n",
       "layers: \n",
       "\n",
       "RS (shape: 7372 proteins by 51510 peptides)\n"
      ]
     },
     "execution_count": 5,
     "metadata": {},
     "output_type": "execute_result"
    }
   ],
   "source": [
    "pdata"
   ]
  },
  {
   "cell_type": "code",
   "execution_count": 10,
   "metadata": {},
   "outputs": [
    {
     "data": {
      "text/plain": [
       "array([ True,  True,  True, ...,  True,  True,  True])"
      ]
     },
     "execution_count": 10,
     "metadata": {},
     "output_type": "execute_result"
    }
   ],
   "source": [
    "unique_peptides_mask = pdata.rs.toarray().sum(axis=0) == 1\n",
    "\n",
    "unique_peptides_mask"
   ]
  },
  {
   "cell_type": "code",
   "execution_count": 15,
   "metadata": {},
   "outputs": [
    {
     "data": {
      "image/png": "[encoded data removed]",
      "text/plain": [
       "<Figure size 500x500 with 1 Axes>"
      ]
     },
     "metadata": {},
     "output_type": "display_data"
    }
   ],
   "source": [
    "# plot plot of unique peptides mask, where True is green and False is red\n",
    "fig, ax = plt.subplots(1, 1, figsize=(5, 5))\n",
    "plt.imshow(unique_peptides_mask.reshape(-1,1), cmap='RdYlGn', aspect='auto')\n",
    "plt.show()"
   ]
  },
  {
   "cell_type": "code",
   "execution_count": 20,
   "metadata": {},
   "outputs": [
    {
     "ename": "IndexError",
     "evalue": "boolean row index has incorrect length: 51094 instead of 10",
     "output_type": "error",
     "traceback": [
      "\u001b[1;31m---------------------------------------------------------------------------\u001b[0m",
      "\u001b[1;31mIndexError\u001b[0m                                Traceback (most recent call last)",
      "Cell \u001b[1;32mIn[20], line 21\u001b[0m\n\u001b[0;32m     18\u001b[0m     unique_peptides_for_protein \u001b[38;5;241m=\u001b[39m unique_pep_to_prot[protein_idx, :] \u001b[38;5;241m==\u001b[39m \u001b[38;5;241m1\u001b[39m\n\u001b[0;32m     20\u001b[0m     \u001b[38;5;66;03m# Sum the peptide abundances for these unique peptides across files\u001b[39;00m\n\u001b[1;32m---> 21\u001b[0m     unique_pep_count_matrix[protein_idx, :] \u001b[38;5;241m=\u001b[39m \u001b[43munique_pep_matrix\u001b[49m\u001b[43m[\u001b[49m\u001b[43munique_peptides_for_protein\u001b[49m\u001b[43m,\u001b[49m\u001b[43m \u001b[49m\u001b[43m:\u001b[49m\u001b[43m]\u001b[49m\u001b[38;5;241m.\u001b[39msum(axis\u001b[38;5;241m=\u001b[39m\u001b[38;5;241m0\u001b[39m)\n\u001b[0;32m     23\u001b[0m \u001b[38;5;66;03m# Convert the result to a DataFrame for better readability\u001b[39;00m\n\u001b[0;32m     24\u001b[0m unique_pep_count_df \u001b[38;5;241m=\u001b[39m pd\u001b[38;5;241m.\u001b[39mDataFrame(unique_pep_count_matrix, index\u001b[38;5;241m=\u001b[39mpdata\u001b[38;5;241m.\u001b[39mprot\u001b[38;5;241m.\u001b[39mindex, columns\u001b[38;5;241m=\u001b[39mpdata\u001b[38;5;241m.\u001b[39mprot\u001b[38;5;241m.\u001b[39mcolumns)\n",
      "File \u001b[1;32mc:\\Users\\srpang\\anaconda3\\envs\\py311\\Lib\\site-packages\\scipy\\sparse\\_index.py:52\u001b[0m, in \u001b[0;36mIndexMixin.__getitem__\u001b[1;34m(self, key)\u001b[0m\n\u001b[0;32m     51\u001b[0m \u001b[38;5;28;01mdef\u001b[39;00m \u001b[38;5;21m__getitem__\u001b[39m(\u001b[38;5;28mself\u001b[39m, key):\n\u001b[1;32m---> 52\u001b[0m     row, col \u001b[38;5;241m=\u001b[39m \u001b[38;5;28;43mself\u001b[39;49m\u001b[38;5;241;43m.\u001b[39;49m\u001b[43m_validate_indices\u001b[49m\u001b[43m(\u001b[49m\u001b[43mkey\u001b[49m\u001b[43m)\u001b[49m\n\u001b[0;32m     54\u001b[0m     \u001b[38;5;66;03m# Dispatch to specialized methods.\u001b[39;00m\n\u001b[0;32m     55\u001b[0m     \u001b[38;5;28;01mif\u001b[39;00m \u001b[38;5;28misinstance\u001b[39m(row, INT_TYPES):\n",
      "File \u001b[1;32mc:\\Users\\srpang\\anaconda3\\envs\\py311\\Lib\\site-packages\\scipy\\sparse\\_index.py:184\u001b[0m, in \u001b[0;36mIndexMixin._validate_indices\u001b[1;34m(self, key)\u001b[0m\n\u001b[0;32m    182\u001b[0m         row \u001b[38;5;241m+\u001b[39m\u001b[38;5;241m=\u001b[39m M\n\u001b[0;32m    183\u001b[0m \u001b[38;5;28;01melif\u001b[39;00m (bool_row \u001b[38;5;241m:=\u001b[39m _compatible_boolean_index(row)) \u001b[38;5;129;01mis\u001b[39;00m \u001b[38;5;129;01mnot\u001b[39;00m \u001b[38;5;28;01mNone\u001b[39;00m:\n\u001b[1;32m--> 184\u001b[0m     row \u001b[38;5;241m=\u001b[39m \u001b[43m_validate_bool_idx\u001b[49m\u001b[43m(\u001b[49m\u001b[43mbool_row\u001b[49m\u001b[43m,\u001b[49m\u001b[43m \u001b[49m\u001b[43mM\u001b[49m\u001b[43m,\u001b[49m\u001b[43m \u001b[49m\u001b[38;5;124;43m\"\u001b[39;49m\u001b[38;5;124;43mrow\u001b[39;49m\u001b[38;5;124;43m\"\u001b[39;49m\u001b[43m)\u001b[49m\n\u001b[0;32m    185\u001b[0m \u001b[38;5;28;01melif\u001b[39;00m \u001b[38;5;129;01mnot\u001b[39;00m \u001b[38;5;28misinstance\u001b[39m(row, \u001b[38;5;28mslice\u001b[39m):\n\u001b[0;32m    186\u001b[0m     row \u001b[38;5;241m=\u001b[39m \u001b[38;5;28mself\u001b[39m\u001b[38;5;241m.\u001b[39m_asindices(row, M)\n",
      "File \u001b[1;32mc:\\Users\\srpang\\anaconda3\\envs\\py311\\Lib\\site-packages\\scipy\\sparse\\_index.py:171\u001b[0m, in \u001b[0;36mIndexMixin._validate_indices.<locals>._validate_bool_idx\u001b[1;34m(idx, axis_size, axis_name)\u001b[0m\n\u001b[0;32m    165\u001b[0m \u001b[38;5;28;01mdef\u001b[39;00m \u001b[38;5;21m_validate_bool_idx\u001b[39m(\n\u001b[0;32m    166\u001b[0m     idx: npt\u001b[38;5;241m.\u001b[39mNDArray[np\u001b[38;5;241m.\u001b[39mbool_],\n\u001b[0;32m    167\u001b[0m     axis_size: \u001b[38;5;28mint\u001b[39m,\n\u001b[0;32m    168\u001b[0m     axis_name: \u001b[38;5;28mstr\u001b[39m\n\u001b[0;32m    169\u001b[0m ) \u001b[38;5;241m-\u001b[39m\u001b[38;5;241m>\u001b[39m npt\u001b[38;5;241m.\u001b[39mNDArray[np\u001b[38;5;241m.\u001b[39mint_]:\n\u001b[0;32m    170\u001b[0m     \u001b[38;5;28;01mif\u001b[39;00m \u001b[38;5;28mlen\u001b[39m(idx) \u001b[38;5;241m!=\u001b[39m axis_size:\n\u001b[1;32m--> 171\u001b[0m         \u001b[38;5;28;01mraise\u001b[39;00m \u001b[38;5;167;01mIndexError\u001b[39;00m(\n\u001b[0;32m    172\u001b[0m             \u001b[38;5;124mf\u001b[39m\u001b[38;5;124m\"\u001b[39m\u001b[38;5;124mboolean \u001b[39m\u001b[38;5;132;01m{\u001b[39;00maxis_name\u001b[38;5;132;01m}\u001b[39;00m\u001b[38;5;124m index has incorrect length: \u001b[39m\u001b[38;5;132;01m{\u001b[39;00m\u001b[38;5;28mlen\u001b[39m(idx)\u001b[38;5;132;01m}\u001b[39;00m\u001b[38;5;124m \u001b[39m\u001b[38;5;124m\"\u001b[39m\n\u001b[0;32m    173\u001b[0m             \u001b[38;5;124mf\u001b[39m\u001b[38;5;124m\"\u001b[39m\u001b[38;5;124minstead of \u001b[39m\u001b[38;5;132;01m{\u001b[39;00maxis_size\u001b[38;5;132;01m}\u001b[39;00m\u001b[38;5;124m\"\u001b[39m\n\u001b[0;32m    174\u001b[0m         )\n\u001b[0;32m    175\u001b[0m     \u001b[38;5;28;01mreturn\u001b[39;00m _boolean_index_to_array(idx)\n",
      "\u001b[1;31mIndexError\u001b[0m: boolean row index has incorrect length: 51094 instead of 10"
     ]
    }
   ],
   "source": [
    "rs_matrix = pdata.rs.toarray()\n",
    "\n",
    "# Identify unique peptides (peptides that map to only one protein)\n",
    "unique_peptides_mask = rs_matrix.sum(axis=0) == 1\n",
    "\n",
    "# Filter pdata.pep to include only unique peptides\n",
    "unique_pep_matrix = pdata.pep.X[:, unique_peptides_mask]\n",
    "\n",
    "# Get the mapping of unique peptides to proteins\n",
    "unique_pep_to_prot = rs_matrix[:, unique_peptides_mask]\n",
    "\n",
    "# Initialize a matrix to store the count of unique peptides per protein per file\n",
    "unique_pep_count_matrix = np.zeros((pdata.prot.X.shape[0], pdata.prot.X.shape[1]))\n",
    "\n",
    "# Count unique peptides per protein per file\n",
    "for protein_idx in range(unique_pep_to_prot.shape[0]):\n",
    "    # Get the indices of unique peptides mapped to this protein\n",
    "    unique_peptides_for_protein = unique_pep_to_prot[protein_idx, :] == 1\n",
    "    \n",
    "    # Sum the peptide abundances for these unique peptides across files\n",
    "    unique_pep_count_matrix[protein_idx, :] = unique_pep_matrix[unique_peptides_for_protein, :].sum(axis=0)\n",
    "\n",
    "# Convert the result to a DataFrame for better readability\n",
    "unique_pep_count_df = pd.DataFrame(unique_pep_count_matrix, index=pdata.prot.index, columns=pdata.prot.columns)\n"
   ]
  },
  {
   "cell_type": "code",
   "execution_count": null,
   "metadata": {},
   "outputs": [],
   "source": []
  }
 ],
 "metadata": {
  "kernelspec": {
   "display_name": "py311",
   "language": "python",
   "name": "python3"
  },
  "language_info": {
   "codemirror_mode": {
    "name": "ipython",
    "version": 3
   },
   "file_extension": ".py",
   "mimetype": "text/x-python",
   "name": "python",
   "nbconvert_exporter": "python",
   "pygments_lexer": "ipython3",
   "version": "3.11.8"
  }
 },
 "nbformat": 4,
 "nbformat_minor": 2
}

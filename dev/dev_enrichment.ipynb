{
 "cells": [
  {
   "cell_type": "code",
   "execution_count": null,
   "metadata": {},
   "outputs": [],
   "source": [
    "from scviz import pAnnData as pAnnData\n",
    "from scviz import plotting as scplt\n",
    "from scviz import utils as scutils\n",
    "import scanpy as sc\n",
    "\n",
    "import numpy as np\n",
    "import pandas as pd\n",
    "\n",
    "import matplotlib.pyplot as plt\n",
    "import seaborn as sns\n",
    "sns.set_theme(context='paper', style='ticks')\n",
    "\n",
    "import matplotlib.patches as mpatches\n",
    "import matplotlib.colors as mcolors\n",
    "from matplotlib.lines import Line2D"
   ]
  },
  {
   "cell_type": "code",
   "execution_count": null,
   "metadata": {},
   "outputs": [],
   "source": [
    "obs_columns = ['sample', 'cellline', 'treatment']\n",
    "\n",
    "pdata_nb = pAnnData.import_proteomeDiscoverer(prot_file = 'pd_prot.txt', pep_file = 'pd_pep.txt',obs_columns=obs_columns)"
   ]
  },
  {
   "cell_type": "code",
   "execution_count": null,
   "metadata": {},
   "outputs": [],
   "source": [
    "case1 = {'cellline': 'AS', 'treatment': 'kd'}\n",
    "case2 = {'cellline': 'AS', 'treatment': 'sc'}\n",
    "case_values = [case1, case2]\n",
    "\n",
    "fig, ax = plt.subplots(figsize=(4, 4))\n",
    "ax, volcano_df = scplt.plot_volcano(ax, pdata_nb, values = case_values, pval = 0.05, return_df=True, fold_change_mode='pairwise_median')\n",
    "ax = scplt.mark_volcano(ax, volcano_df, label=['UBE4B'], label_color=\"black\", show_names=False)\n",
    "ax\n",
    "# ax.figure.savefig('AS volcano.png', dpi=300, bbox_inches='tight')\n",
    "# volcano_df.to_csv('AS volcano.csv')"
   ]
  },
  {
   "cell_type": "code",
   "execution_count": null,
   "metadata": {},
   "outputs": [],
   "source": [
    "case1 = {'cellline': 'BE', 'treatment': 'kd'}\n",
    "case2 = {'cellline': 'BE', 'treatment': 'sc'}\n",
    "case_values = [case1, case2]\n",
    "\n",
    "pdata_nb.de(values = case_values, fold_change_mode='pairwise_median')"
   ]
  },
  {
   "cell_type": "code",
   "execution_count": null,
   "metadata": {},
   "outputs": [],
   "source": [
    "case1 = {'cellline': 'AS', 'treatment': 'kd'}\n",
    "case2 = {'cellline': 'BE', 'treatment': 'kd'}\n",
    "case_values = [case1, case2]\n",
    "\n",
    "pdata_nb.de(values = case_values, fold_change_mode='pairwise_median')"
   ]
  },
  {
   "cell_type": "code",
   "execution_count": null,
   "metadata": {},
   "outputs": [],
   "source": [
    "case1 = {'cellline': 'AS', 'treatment': 'sc'}\n",
    "case2 = {'cellline': 'BE', 'treatment': 'sc'}\n",
    "case_values = [case1, case2]\n",
    "\n",
    "pdata_nb.de(values = case_values, fold_change_mode='pairwise_median')"
   ]
  },
  {
   "cell_type": "code",
   "execution_count": null,
   "metadata": {},
   "outputs": [],
   "source": [
    "pdata_nb.list_enrichments()"
   ]
  },
  {
   "cell_type": "code",
   "execution_count": null,
   "metadata": {},
   "outputs": [],
   "source": [
    "# enrichment with a user-defined gene list\n",
    "genelist = ['P55072', 'NPLOC4', 'UFD1', 'STX5A', 'NSFL1C', 'UBXN2A', 'UBXN4', 'UBE4B', 'YOD1', 'WASHC5','PLAA','UBXN10']\n",
    "\n",
    "# key = \"[{'cellline': 'AS', 'treatment': 'kd'}] vs [{'cellline': 'AS', 'treatment': 'sc'}]\"\n",
    "pdata_nb.enrichment_functional(genes=genelist, from_de=False)"
   ]
  },
  {
   "cell_type": "code",
   "execution_count": null,
   "metadata": {},
   "outputs": [],
   "source": [
    "pdata_nb.stats['functional'][\"UserSearch1\"][\"result\"]"
   ]
  },
  {
   "cell_type": "code",
   "execution_count": null,
   "metadata": {},
   "outputs": [],
   "source": [
    "key1 = \"BE_kd vs BE_sc\"\n",
    "# key = \"[{'cellline': 'AS', 'treatment': 'kd'}] vs [{'cellline': 'AS', 'treatment': 'sc'}]\"\n",
    "pdata_nb.enrichment_functional(de_key=key1)"
   ]
  },
  {
   "cell_type": "code",
   "execution_count": null,
   "metadata": {},
   "outputs": [],
   "source": [
    "pdata_nb.enrichment_ppi(genes=genelist)"
   ]
  },
  {
   "cell_type": "code",
   "execution_count": null,
   "metadata": {},
   "outputs": [],
   "source": [
    "pdata_nb.plot_enrichment_svg(\"UserSearch1\")"
   ]
  },
  {
   "cell_type": "code",
   "execution_count": null,
   "metadata": {},
   "outputs": [],
   "source": [
    "pdata_nb.list_enrichments()"
   ]
  },
  {
   "cell_type": "code",
   "execution_count": null,
   "metadata": {},
   "outputs": [],
   "source": [
    "key1 = \"BE_kd vs BE_sc\"\n",
    "# key = \"[{'cellline': 'AS', 'treatment': 'kd'}] vs [{'cellline': 'AS', 'treatment': 'sc'}]\"\n",
    "pdata_nb.enrichment_functional(de_key=key1)"
   ]
  },
  {
   "cell_type": "code",
   "execution_count": null,
   "metadata": {},
   "outputs": [],
   "source": [
    "key2 = \"AS_kd vs AS_sc\"\n",
    "# key = \"[{'cellline': 'AS', 'treatment': 'kd'}] vs [{'cellline': 'AS', 'treatment': 'sc'}]\"\n",
    "pdata_nb.enrichment_functional(de_key=key2)"
   ]
  },
  {
   "cell_type": "code",
   "execution_count": null,
   "metadata": {},
   "outputs": [],
   "source": [
    "pdata_nb.list_enrichments()"
   ]
  },
  {
   "cell_type": "code",
   "execution_count": null,
   "metadata": {},
   "outputs": [],
   "source": [
    "pdata_nb.stats['ppi']['UserPPI1']['result']"
   ]
  },
  {
   "cell_type": "code",
   "execution_count": null,
   "metadata": {},
   "outputs": [],
   "source": [
    "pdata_nb.stats[\"None_up\"]"
   ]
  },
  {
   "cell_type": "code",
   "execution_count": null,
   "metadata": {},
   "outputs": [],
   "source": [
    "from scviz import pAnnData as pAnnData\n",
    "from scviz import plotting as scplt\n",
    "from scviz import utils as scutils\n",
    "import scanpy as sc\n",
    "\n",
    "import numpy as np\n",
    "import pandas as pd\n",
    "\n",
    "import matplotlib.pyplot as plt\n",
    "import seaborn as sns\n",
    "sns.set_theme(context='paper', style='ticks')\n",
    "\n",
    "import matplotlib.patches as mpatches\n",
    "import matplotlib.colors as mcolors\n",
    "from matplotlib.lines import Line2D"
   ]
  },
  {
   "cell_type": "markdown",
   "metadata": {},
   "source": [
    "# diann"
   ]
  },
  {
   "cell_type": "code",
   "execution_count": null,
   "metadata": {},
   "outputs": [],
   "source": [
    "obs_columns = ['name','load','enzyme','date','instrument','acquisition','method','gradient','replicate']\n",
    "\n",
    "pdata = pAnnData.import_diann('diann_short.tsv', obs_columns=obs_columns)"
   ]
  },
  {
   "cell_type": "code",
   "execution_count": null,
   "metadata": {},
   "outputs": [],
   "source": [
    "pdata.print_history()"
   ]
  },
  {
   "cell_type": "code",
   "execution_count": null,
   "metadata": {},
   "outputs": [],
   "source": []
  },
  {
   "cell_type": "code",
   "execution_count": null,
   "metadata": {},
   "outputs": [],
   "source": [
    "pdata.prot.var"
   ]
  },
  {
   "cell_type": "code",
   "execution_count": null,
   "metadata": {},
   "outputs": [],
   "source": [
    "missing_genes = pdata.prot.var[pdata.prot.var[\"Genes\"].isna()]\n",
    "\n",
    "missing_genes"
   ]
  },
  {
   "cell_type": "markdown",
   "metadata": {},
   "source": [
    "# PD file import"
   ]
  },
  {
   "cell_type": "code",
   "execution_count": null,
   "metadata": {},
   "outputs": [],
   "source": [
    "obs_columns = ['sample', 'cellline', 'treatment']\n",
    "pdata_pd = pAnnData.import_proteomeDiscoverer(prot_file = 'pd_prot_short.txt', pep_file = 'pd_pep_short.txt', obs_columns=obs_columns)"
   ]
  },
  {
   "cell_type": "code",
   "execution_count": null,
   "metadata": {},
   "outputs": [],
   "source": [
    "pdata_pd.metadata"
   ]
  },
  {
   "cell_type": "code",
   "execution_count": null,
   "metadata": {},
   "outputs": [],
   "source": [
    "values=[{'cellline': 'AS', 'treatment': 'kd'},\n",
    "        {'cellline': 'AS', 'treatment': 'sc'}]\n",
    "\n",
    "de_mean = pdata_pd.de(values)\n",
    "de_protpair = pdata_pd.de(values, fold_change_mode='pairwise_median')\n",
    "de_peppair = pdata_pd.de(values, fold_change_mode='pep_pairwise_median')"
   ]
  },
  {
   "cell_type": "code",
   "execution_count": null,
   "metadata": {},
   "outputs": [],
   "source": [
    "de_mean"
   ]
  },
  {
   "cell_type": "code",
   "execution_count": null,
   "metadata": {},
   "outputs": [],
   "source": [
    "de_protpair"
   ]
  },
  {
   "cell_type": "code",
   "execution_count": null,
   "metadata": {},
   "outputs": [],
   "source": [
    "de_peppair"
   ]
  }
 ],
 "metadata": {
  "kernelspec": {
   "display_name": "py311",
   "language": "python",
   "name": "python3"
  },
  "language_info": {
   "codemirror_mode": {
    "name": "ipython",
    "version": 3
   },
   "file_extension": ".py",
   "mimetype": "text/x-python",
   "name": "python",
   "nbconvert_exporter": "python",
   "pygments_lexer": "ipython3",
   "version": "3.11.8"
  }
 },
 "nbformat": 4,
 "nbformat_minor": 2
}

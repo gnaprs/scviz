{
 "cells": [
  {
   "cell_type": "code",
   "execution_count": 1,
   "metadata": {
    "metadata": {}
   },
   "outputs": [],
   "source": [
    "import pandas as pd\n",
    "import anndata as ad\n",
    "import numpy as np\n",
    "from scipy import sparse\n",
    "from sklearn.preprocessing import MultiLabelBinarizer\n",
    "\n",
    "from scviz import pAnnData as pAnnData\n",
    "from scviz import plotting as scplt\n",
    "from scviz import utils as scutils\n",
    "import scanpy as sc\n",
    "\n",
    "from typing import (  # Meta  # Generic ABCs  # Generic\n",
    "    TYPE_CHECKING,\n",
    "    Any,\n",
    "    Literal,\n",
    "    Optional,\n",
    "    List\n",
    ")"
   ]
  },
  {
   "cell_type": "markdown",
   "metadata": {},
   "source": [
    "# Functions to prepare pAnnData"
   ]
  },
  {
   "cell_type": "code",
   "execution_count": 161,
   "metadata": {
    "metadata": {}
   },
   "outputs": [],
   "source": [
    "# todo! actually check through these for useful stuff\n",
    "from typing import List\n",
    "\n",
    "# check if pep_obs_names and prot_obs_names are the same\n",
    "def check_obs_names(pdata: pAnnData) -> bool:\n",
    "    if pdata.prot.obs_names is not None and pdata.pep.obs_names is not None:\n",
    "        return pdata.prot.obs_names == pdata.pep.obs_names\n",
    "    else:\n",
    "        return False\n",
    "        \n",
    "def merge(pdata1: pAnnData, pdata2: pAnnData) -> pAnnData:\n",
    "    # merge two pAnnData objects\n",
    "    # check if pdata1 and pdata2 have the same obs names\n",
    "    if check_obs_names(pdata1) and check_obs_names(pdata2):\n",
    "        # merge pdata1 and pdata2\n",
    "        prot = pdata1.prot.concatenate(pdata2.prot, join=\"outer\")\n",
    "        pep = pdata1.pep.concatenate(pdata2.pep, join=\"outer\")\n",
    "        rs = sparse.vstack([pdata1.rs, pdata2.rs])\n",
    "        return pAnnData(prot, pep, rs)\n",
    "    else:\n",
    "        raise ValueError(\"Protein and peptide obs names must be the same.\")\n",
    "    \n",
    "def filter(pdata: pAnnData, prot: List[str], pep: List[str]) -> pAnnData:\n",
    "    # filter protein and peptide data\n",
    "    # filter protein data\n",
    "    if prot is not None:\n",
    "        prot = pdata.prot[:, prot]\n",
    "    else:\n",
    "        prot = pdata.prot\n",
    "    # filter peptide data\n",
    "    if pep is not None:\n",
    "        pep = pdata.pep[:, pep]\n",
    "    else:\n",
    "        pep = pdata.pep\n",
    "    return pAnnData(prot, pep, pdata.rs)\n",
    "\n",
    "def normalize(pdata: pAnnData, axis: Literal['protein', 'peptide', 'both']) -> pAnnData:\n",
    "    # normalize protein or peptide data\n",
    "    if axis == 'protein':\n",
    "        prot = pdata.prot.X / pdata.prot.X.sum(axis=0)\n",
    "        return pAnnData(prot, pdata.pep, pdata.rs)\n",
    "    elif axis == 'peptide':\n",
    "        pep = pdata.pep.X / pdata.pep.X.sum(axis=0)\n",
    "        return pAnnData(pdata.prot, pep, pdata.rs)\n",
    "    elif axis == 'both':\n",
    "        prot = pdata.prot.X / pdata.prot.X.sum(axis=0)\n",
    "        pep = pdata.pep.X / pdata.pep.X.sum(axis=0)\n",
    "        return pAnnData(prot, pep, pdata.rs)\n",
    "    else:\n",
    "        raise ValueError(\"axis must be 'protein', 'peptide', or 'both'.\")"
   ]
  },
  {
   "cell_type": "markdown",
   "metadata": {},
   "source": [
    "# Actual import"
   ]
  },
  {
   "cell_type": "code",
   "execution_count": 2,
   "metadata": {
    "metadata": {}
   },
   "outputs": [
    {
     "name": "stdout",
     "output_type": "stream",
     "text": [
      "--------------------------\n",
      "Starting import...\n",
      "--------------------------\n",
      "Importing from pd_prot.txt\n",
      "Number of files: 60\n",
      "Number of proteins: 1571\n",
      "Importing from pd_pep.txt\n",
      "Number of files: 60\n",
      "Number of peptides: 6352\n",
      "RS matrix successfully computed\n",
      "Setting rs matrix with dimensions (6352, 1571)\n",
      "Transposing rs matrix to protein x peptide format\n",
      "pAnnData object created. Use `print(pdata)` to view the object.\n"
     ]
    }
   ],
   "source": [
    "# test import_proteomeDiscoverer function\n",
    "pdata = pAnnData.import_proteomeDiscoverer(prot_file='pd_prot.txt', pep_file='pd_pep.txt', obs_columns = ['Sample', 'method', 'duration', 'type'])"
   ]
  },
  {
   "cell_type": "code",
   "execution_count": 3,
   "metadata": {},
   "outputs": [
    {
     "data": {
      "text/plain": [
       "pAnnData object\n",
       "Protein (shape: 60 files by 1571 proteins)\n",
       "obs: Sample, method, duration, type, quant...\n",
       "var: Protein FDR Confidence: Combined, Master, Accession, Description, Exp. q-value: Combined...\n",
       "obsm: \n",
       "layers: X_mbr, X_raw\n",
       "\n",
       "Peptide (shape: 60 files by 6352 peptides)\n",
       "obs: Sample, method, duration, type, quant...\n",
       "var: Modifications, Qvality PEP, Qvality q-value, # Protein Groups, # Proteins...\n",
       "layers: X_mbr, X_raw\n",
       "\n",
       "RS (shape: 1571 proteins by 6352 peptides)\n"
      ]
     },
     "execution_count": 3,
     "metadata": {},
     "output_type": "execute_result"
    }
   ],
   "source": [
    "pdata"
   ]
  },
  {
   "cell_type": "code",
   "execution_count": 6,
   "metadata": {},
   "outputs": [
    {
     "name": "stdout",
     "output_type": "stream",
     "text": [
      "Setting rs matrix with dimensions (51510, 7372)\n",
      "Transposing rs matrix to protein x peptide format\n"
     ]
    }
   ],
   "source": [
    "obs_columns = ['Name','Amt','Enzyme','Date','Instrument','Acquisition','Method','Duration','Replicate']\n",
    "\n",
    "pdata = pAnnData.import_diann(report_file='report.tsv', obs_columns=obs_columns)"
   ]
  },
  {
   "cell_type": "code",
   "execution_count": 7,
   "metadata": {},
   "outputs": [
    {
     "data": {
      "text/plain": [
       "pAnnData object\n",
       "Protein (shape: 10 files by 7372 proteins)\n",
       "obs: Name, Amt, Enzyme, Date, Instrument...\n",
       "var: First.Protein.Description, Genes\n",
       "obsm: \n",
       "layers: \n",
       "\n",
       "Peptide (shape: 10 files by 51510 peptides)\n",
       "obs: Name, Amt, Enzyme, Date, Instrument...\n",
       "var: Modified.Sequence, Stripped.Sequence\n",
       "layers: \n",
       "\n",
       "RS (shape: 7372 proteins by 51510 peptides)\n"
      ]
     },
     "execution_count": 7,
     "metadata": {},
     "output_type": "execute_result"
    }
   ],
   "source": [
    "pdata"
   ]
  }
 ],
 "metadata": {
  "kernelspec": {
   "display_name": "base",
   "language": "python",
   "name": "python3"
  },
  "language_info": {
   "codemirror_mode": {
    "name": "ipython",
    "version": 3
   },
   "file_extension": ".py",
   "mimetype": "text/x-python",
   "name": "python",
   "nbconvert_exporter": "python",
   "pygments_lexer": "ipython3",
   "version": "3.11.8"
  }
 },
 "nbformat": 4,
 "nbformat_minor": 2
}

{
 "cells": [
  {
   "cell_type": "code",
   "execution_count": 3,
   "metadata": {
    "metadata": {}
   },
   "outputs": [],
   "source": [
    "import pandas as pd\n",
    "import anndata as ad\n",
    "import numpy as np\n",
    "from scipy import sparse\n",
    "from sklearn.preprocessing import MultiLabelBinarizer\n",
    "\n",
    "from typing import (  # Meta  # Generic ABCs  # Generic\n",
    "    TYPE_CHECKING,\n",
    "    Any,\n",
    "    Literal,\n",
    "    Optional,\n",
    "    List\n",
    ")"
   ]
  },
  {
   "cell_type": "code",
   "execution_count": 13,
   "metadata": {
    "metadata": {}
   },
   "outputs": [],
   "source": [
    "from matplotlib.pylab import f\n",
    "\n",
    "class pAnnData:\n",
    "    \"\"\"\n",
    "    Class for storing protein and peptide data, with additional relational data between protein and peptide.\n",
    "    \"\"\"\n",
    "\n",
    "    def __init__(self, \n",
    "                 prot = None, # np.ndarray | sparse.spmatrix \n",
    "                 pep = None, # np.ndarray | sparse.spmatrix\n",
    "                 rs = None): # np.ndarray | sparse.spmatrix, protein x peptide relational data\n",
    "\n",
    "        if prot is not None:\n",
    "            self._prot = ad.AnnData(prot)\n",
    "        if pep is not None:\n",
    "            self._pep = ad.AnnData(pep)\n",
    "        if rs is not None:\n",
    "            self._set_RS(rs)\n",
    "            \n",
    "    @property\n",
    "    def prot(self):\n",
    "        return self._prot\n",
    "\n",
    "    @property\n",
    "    def pep(self):\n",
    "        return self._pep\n",
    "    \n",
    "    @property\n",
    "    def rs(self):\n",
    "        return self._rs\n",
    "\n",
    "    @prot.setter\n",
    "    def prot(self, value):\n",
    "        self._prot = value\n",
    "\n",
    "    @pep.setter\n",
    "    def pep(self, value):\n",
    "        self._pep = value\n",
    "\n",
    "    @rs.setter\n",
    "    def rs(self, value):\n",
    "        self._set_RS(value)\n",
    "\n",
    "    def _set_RS(self, rs):\n",
    "        # print rs shape, as well as protein and peptide shape if available\n",
    "        print(f\"Setting rs matrix with dimensions {rs.shape}\")\n",
    "        # assert that the dimensions of rs match either protein x peptide or peptide x protein\n",
    "        assert ((self.prot is None or rs.shape[0] == self.prot.shape[1]) and (self.pep is None or rs.shape[1] == self.pep.shape[1])) or \\\n",
    "            ((self.prot is None or rs.shape[1] == self.prot.shape[1]) and (self.pep is None or rs.shape[0] == self.pep.shape[1])), \\\n",
    "            f\"The dimensions of rs ({rs.shape}) must match either protein x peptide ({self.prot.shape[1] if self.prot is not None else None} x {self.pep.shape[1] if self.pep is not None else None}) or peptide x protein ({self.pep.shape[1] if self.pep is not None else None} x {self.prot.shape[1] if self.prot is not None else None})\"\n",
    "\n",
    "        # check dimensions of rs, make sure protein (row) x peptide (column) format\n",
    "        if self.prot is not None and rs.shape[0] != self.prot.shape[1]:\n",
    "            print(\"Transposing rs matrix to protein x peptide format\")\n",
    "            rs = rs.T\n",
    "        self._rs = sparse.csr_matrix(rs)\n",
    "\n",
    "    def __repr__(self):\n",
    "        if self.prot is not None:\n",
    "            prot_shape = f\"{self.prot.shape[0]} files by {self.prot.shape[1]} proteins\"\n",
    "            prot_obs = ', '.join(self.prot.obs.columns[:5]) + ('...' if len(self.prot.obs.columns) > 5 else '')\n",
    "            prot_var = ', '.join(self.prot.var.columns[:5]) + ('...' if len(self.prot.var.columns) > 5 else '')\n",
    "            prot_info = f\"Protein (shape: {prot_shape})\\nobs: {prot_obs}\\nvar: {prot_var}\"\n",
    "        else:\n",
    "            prot_info = \"Protein: None\"\n",
    "\n",
    "        if self.pep is not None:\n",
    "            pep_shape = f\"{self.pep.shape[0]} files by {self.pep.shape[1]} peptides\"\n",
    "            pep_obs = ', '.join(self.pep.obs.columns[:5]) + ('...' if len(self.pep.obs.columns) > 5 else '')\n",
    "            pep_var = ', '.join(self.pep.var.columns[:5]) + ('...' if len(self.pep.var.columns) > 5 else '')\n",
    "            pep_info = f\"Peptide (shape: {pep_shape})\\nobs: {pep_obs}\\nvar: {pep_var}\"\n",
    "        else:\n",
    "            pep_info = \"Peptide: None\"\n",
    "\n",
    "        if self.rs is not None:\n",
    "            rs_shape = f\"{self.rs.shape[0]} proteins by {self.rs.shape[1]} peptides\"\n",
    "            rs_info = f\"RS (shape: {rs_shape})\\n\"\n",
    "        else:\n",
    "            rs_info = \"RS: None\"\n",
    "\n",
    "        return (f\"\\npAnnData object\\n\"\n",
    "                f\"{prot_info}\\n\\n\"\n",
    "                f\"{pep_info}\\n\\n\"\n",
    "                f\"{rs_info}\\n\")"
   ]
  },
  {
   "cell_type": "markdown",
   "metadata": {},
   "source": [
    "# Functions to prepare pAnnData"
   ]
  },
  {
   "cell_type": "code",
   "execution_count": 161,
   "metadata": {
    "metadata": {}
   },
   "outputs": [],
   "source": [
    "# todo! actually check through these for useful stuff\n",
    "from typing import List\n",
    "\n",
    "# check if pep_obs_names and prot_obs_names are the same\n",
    "def check_obs_names(pdata: pAnnData) -> bool:\n",
    "    if pdata.prot.obs_names is not None and pdata.pep.obs_names is not None:\n",
    "        return pdata.prot.obs_names == pdata.pep.obs_names\n",
    "    else:\n",
    "        return False\n",
    "        \n",
    "def merge(pdata1: pAnnData, pdata2: pAnnData) -> pAnnData:\n",
    "    # merge two pAnnData objects\n",
    "    # check if pdata1 and pdata2 have the same obs names\n",
    "    if check_obs_names(pdata1) and check_obs_names(pdata2):\n",
    "        # merge pdata1 and pdata2\n",
    "        prot = pdata1.prot.concatenate(pdata2.prot, join=\"outer\")\n",
    "        pep = pdata1.pep.concatenate(pdata2.pep, join=\"outer\")\n",
    "        rs = sparse.vstack([pdata1.rs, pdata2.rs])\n",
    "        return pAnnData(prot, pep, rs)\n",
    "    else:\n",
    "        raise ValueError(\"Protein and peptide obs names must be the same.\")\n",
    "    \n",
    "def filter(pdata: pAnnData, prot: List[str], pep: List[str]) -> pAnnData:\n",
    "    # filter protein and peptide data\n",
    "    # filter protein data\n",
    "    if prot is not None:\n",
    "        prot = pdata.prot[:, prot]\n",
    "    else:\n",
    "        prot = pdata.prot\n",
    "    # filter peptide data\n",
    "    if pep is not None:\n",
    "        pep = pdata.pep[:, pep]\n",
    "    else:\n",
    "        pep = pdata.pep\n",
    "    return pAnnData(prot, pep, pdata.rs)\n",
    "\n",
    "def normalize(pdata: pAnnData, axis: Literal['protein', 'peptide', 'both']) -> pAnnData:\n",
    "    # normalize protein or peptide data\n",
    "    if axis == 'protein':\n",
    "        prot = pdata.prot.X / pdata.prot.X.sum(axis=0)\n",
    "        return pAnnData(prot, pdata.pep, pdata.rs)\n",
    "    elif axis == 'peptide':\n",
    "        pep = pdata.pep.X / pdata.pep.X.sum(axis=0)\n",
    "        return pAnnData(pdata.prot, pep, pdata.rs)\n",
    "    elif axis == 'both':\n",
    "        prot = pdata.prot.X / pdata.prot.X.sum(axis=0)\n",
    "        pep = pdata.pep.X / pdata.pep.X.sum(axis=0)\n",
    "        return pAnnData(prot, pep, pdata.rs)\n",
    "    else:\n",
    "        raise ValueError(\"axis must be 'protein', 'peptide', or 'both'.\")"
   ]
  },
  {
   "cell_type": "code",
   "execution_count": 169,
   "metadata": {
    "metadata": {}
   },
   "outputs": [],
   "source": [
    "# PROTEOME DISCOVERER TEST\n",
    "# -----------------------------\n",
    "# import pd test files\n",
    "pep_all = pd.read_csv('pd_pep.txt', sep='\\t')\n",
    "prot_all = pd.read_csv('pd_prot.txt', sep='\\t')\n",
    "\n",
    "# -----------------------------\n",
    "# PEPTIDE DATA\n",
    "# pep_X: sparse data matrix\n",
    "pep_X = sparse.csr_matrix(pep_all.filter(regex='Abundance: F', axis=1).values).transpose()\n",
    "# pep_var_names: peptide sequence with modifications\n",
    "pep_var_names = (pep_all['Annotated Sequence'] + np.where(pep_all['Modifications'].isna(), '', ' MOD:' + pep_all['Modifications'])).values\n",
    "# pep_obs_names: file names\n",
    "pep_obs_names = pep_all.filter(regex='Abundance: F', axis=1).columns.str.extract('Abundance: (F\\d+):')[0].values\n",
    "\n",
    "# -----------------------------\n",
    "# PROTEIN DATA\n",
    "# prot_X: sparse data matrix\n",
    "prot_X = sparse.csr_matrix(prot_all.filter(regex='Abundance: F', axis=1).values).transpose()\n",
    "# prot_var_names: protein names\n",
    "prot_var_names = prot_all['Accession'].values\n",
    "# prot_var: protein metadata\n",
    "prot_var = prot_all.loc[:, 'Protein FDR Confidence: Combined':'# Razor Peptides']\n",
    "# prot_obs_names: file names\n",
    "prot_obs_names = prot_all.filter(regex='Abundance: F', axis=1).columns.str.extract('Abundance: (F\\d+):')[0].values\n",
    "# prot_obs: sample typing from the column name\n",
    "prot_obs = prot_all.filter(regex='Abundance: F', axis=1).columns.str.extract('Abundance: F\\d+: (.+)$')[0].values\n",
    "prot_obs = pd.DataFrame(prot_obs, columns=['metadata'])['metadata'].str.split(',', expand=True).map(str.strip).astype('category')\n",
    "\n",
    "# -----------------------------\n",
    "# RS DATA\n",
    "# rs is in the form of a binary matrix, protein x peptide\n",
    "pep_prot_list = pep_all['Master Protein Accessions'].str.split('; ')\n",
    "mlb = MultiLabelBinarizer()\n",
    "rs = mlb.fit_transform(pep_prot_list)\n",
    "index_dict = {protein: index for index, protein in enumerate(mlb.classes_)}\n",
    "reorder_indices = [index_dict[protein] for protein in prot_var_names]\n",
    "rs = rs[:, reorder_indices]\n",
    "\n",
    "# ASSERTIONS\n",
    "# -----------------------------\n",
    "# check that all files overlap, and that the order is the same\n",
    "pep_obs_set = set(pep_obs_names)\n",
    "prot_obs_set = set(prot_obs_names)\n",
    "assert pep_obs_set == prot_obs_set, \"The files in peptide and protein data must be the same\"\n",
    "# -----------------------------\n",
    "# check if mlb.classes_ has overlap with prot_var\n",
    "mlb_classes_set = set(mlb.classes_)\n",
    "prot_var_set = set(prot_var_names)\n",
    "\n",
    "if mlb_classes_set != prot_var_set:\n",
    "    print(\"WARNING: Master proteins in the peptide matrix do not match proteins in the protein data\")\n",
    "    # print numerical overlap, and unique elements in each set\n",
    "    print(f\"Overlap: {len(mlb_classes_set & prot_var_set)}\")\n",
    "    print(f\"Unique to peptide data: {mlb_classes_set - prot_var_set}\")\n",
    "    print(f\"Unique to protein data: {prot_var_set - mlb_classes_set}\")\n",
    "# -----------------------------\n",
    "# # export protein_peptide_matrix as csv\n",
    "# df = pd.DataFrame(protein_peptide_matrix, columns=prot_var, index=pep_var)\n",
    "# df.to_csv('protein_peptide_matrix.csv')\n",
    "\n",
    "# pAnnData OBJECT - should be the same for all imports\n",
    "# -----------------------------\n",
    "pdata = pAnnData(prot_X, pep_X, rs)\n",
    "\n",
    "pdata.prot.obs = pd.DataFrame(prot_obs)\n",
    "pdata.prot.var = pd.DataFrame(prot_var)\n",
    "pdata.prot.obs_names = list(prot_obs_names)\n",
    "pdata.prot.var_names = list(prot_var_names)\n",
    "pdata.prot.obs.columns = ['Sample', 'method', 'duration', 'type'] # will need to get user input for obs columns, default is just numbers\n",
    "\n",
    "pdata.pep.obs_names = list(pep_obs_names)\n",
    "pdata.pep.var_names = list(pep_var_names)"
   ]
  },
  {
   "cell_type": "code",
   "execution_count": 10,
   "metadata": {
    "metadata": {}
   },
   "outputs": [],
   "source": [
    "def import_proteomeDiscoverer(prot_file: Optional[str] = None, pep_file: Optional[str] = None, obs_columns: Optional[List[str]] = None):\n",
    "    if not prot_file and not pep_file:\n",
    "        raise ValueError(\"At least one of prot_file or pep_file must be provided\")\n",
    "\n",
    "    if prot_file:\n",
    "        # -----------------------------\n",
    "        # PROTEIN DATA\n",
    "        prot_all = pd.read_csv(prot_file, sep='\\t')\n",
    "        # prot_X: sparse data matrix\n",
    "        prot_X = sparse.csr_matrix(prot_all.filter(regex='Abundance: F', axis=1).values).transpose()\n",
    "        # prot_var_names: protein names\n",
    "        prot_var_names = prot_all['Accession'].values\n",
    "        # prot_var: protein metadata\n",
    "        prot_var = prot_all.loc[:, 'Protein FDR Confidence: Combined':'# Razor Peptides']\n",
    "        # prot_obs_names: file names\n",
    "        prot_obs_names = prot_all.filter(regex='Abundance: F', axis=1).columns.str.extract('Abundance: (F\\d+):')[0].values\n",
    "        # prot_obs: sample typing from the column name\n",
    "        prot_obs = prot_all.filter(regex='Abundance: F', axis=1).columns.str.extract('Abundance: F\\d+: (.+)$')[0].values\n",
    "        prot_obs = pd.DataFrame(prot_obs, columns=['metadata'])['metadata'].str.split(',', expand=True).map(str.strip).astype('category')\n",
    "    else:\n",
    "        prot_X = prot_var_names = prot_var = prot_obs_names = prot_obs = None\n",
    "\n",
    "    if pep_file:\n",
    "        # -----------------------------\n",
    "        # PEPTIDE DATA\n",
    "        pep_all = pd.read_csv(pep_file, sep='\\t')\n",
    "        # pep_X: sparse data matrix\n",
    "        pep_X = sparse.csr_matrix(pep_all.filter(regex='Abundance: F', axis=1).values).transpose()\n",
    "        # pep_var_names: peptide sequence with modifications\n",
    "        pep_var_names = (pep_all['Annotated Sequence'] + np.where(pep_all['Modifications'].isna(), '', ' MOD:' + pep_all['Modifications'])).values\n",
    "        # pep_obs_names: file names\n",
    "        pep_obs_names = pep_all.filter(regex='Abundance: F', axis=1).columns.str.extract('Abundance: (F\\d+):')[0].values\n",
    "        # pep_var: peptide metadata\n",
    "        pep_var = pep_all.loc[:, 'Modifications':'Theo. MH+ [Da]']\n",
    "        # prot_obs: sample typing from the column name\n",
    "        pep_obs = pep_all.filter(regex='Abundance: F', axis=1).columns.str.extract('Abundance: F\\d+: (.+)$')[0].values\n",
    "        pep_obs = pd.DataFrame(pep_obs, columns=['metadata'])['metadata'].str.split(',', expand=True).map(str.strip).astype('category')\n",
    "    else:\n",
    "        pep_X = pep_var_names = pep_obs_names = pep_var = None\n",
    "\n",
    "    if prot_file and pep_file:\n",
    "        # -----------------------------\n",
    "        # RS DATA\n",
    "        # rs is in the form of a binary matrix, protein x peptide\n",
    "        pep_prot_list = pep_all['Master Protein Accessions'].str.split('; ')\n",
    "        mlb = MultiLabelBinarizer()\n",
    "        rs = mlb.fit_transform(pep_prot_list)\n",
    "        if prot_var_names is not None:\n",
    "            index_dict = {protein: index for index, protein in enumerate(mlb.classes_)}\n",
    "            reorder_indices = [index_dict[protein] for protein in prot_var_names]\n",
    "            rs = rs[:, reorder_indices]\n",
    "    else:\n",
    "        rs = None\n",
    "\n",
    "    # ASSERTIONS\n",
    "    # -----------------------------\n",
    "    # check that all files overlap, and that the order is the same\n",
    "    if prot_obs_names is not None and pep_obs_names is not None:\n",
    "        assert set(pep_obs_names) == set(prot_obs_names), \"The files in peptide and protein data must be the same\"\n",
    "    # -----------------------------\n",
    "    # check if mlb.classes_ has overlap with prot_var\n",
    "    if prot_file and pep_file:\n",
    "        mlb_classes_set = set(mlb.classes_)\n",
    "        prot_var_set = set(prot_var_names)\n",
    "\n",
    "        if mlb_classes_set != prot_var_set:\n",
    "            print(\"WARNING: Master proteins in the peptide matrix do not match proteins in the protein data, please check if files correspond to the same data.\")\n",
    "            print(f\"Overlap: {len(mlb_classes_set & prot_var_set)}\")\n",
    "            print(f\"Unique to peptide data: {mlb_classes_set - prot_var_set}\")\n",
    "            print(f\"Unique to protein data: {prot_var_set - mlb_classes_set}\")\n",
    "\n",
    "    # pAnnData OBJECT - should be the same for all imports\n",
    "    # -----------------------------\n",
    "\n",
    "    pdata = pAnnData(prot_X, pep_X, rs)\n",
    "\n",
    "    if prot_file:\n",
    "        pdata.prot.obs = pd.DataFrame(prot_obs)\n",
    "        pdata.prot.var = pd.DataFrame(prot_var)\n",
    "        pdata.prot.obs_names = list(prot_obs_names)\n",
    "        pdata.prot.var_names = list(prot_var_names)\n",
    "        pdata.prot.obs.columns = obs_columns if obs_columns else list(range(len(prot_obs.columns)))\n",
    "\n",
    "    if pep_file:\n",
    "        pdata.pep.obs = pd.DataFrame(pep_obs)\n",
    "        pdata.pep.var = pd.DataFrame(pep_var)\n",
    "        pdata.pep.obs_names = list(pep_obs_names)\n",
    "        pdata.pep.var_names = list(pep_var_names)\n",
    "        pdata.pep.obs.columns = obs_columns if obs_columns else list(range(len(pep_obs.columns)))\n",
    "\n",
    "    return pdata\n",
    "\n"
   ]
  },
  {
   "cell_type": "markdown",
   "metadata": {},
   "source": [
    "# Actual import"
   ]
  },
  {
   "cell_type": "code",
   "execution_count": 15,
   "metadata": {
    "metadata": {}
   },
   "outputs": [
    {
     "name": "stdout",
     "output_type": "stream",
     "text": [
      "Setting rs matrix with dimensions (6352, 1571)\n",
      "Transposing rs matrix to protein x peptide format\n"
     ]
    }
   ],
   "source": [
    "# test import_proteomeDiscoverer function\n",
    "pdata = import_proteomeDiscoverer(prot_file='pd_prot.txt', pep_file='pd_pep.txt', obs_columns = ['Sample', 'method', 'duration', 'type'])"
   ]
  },
  {
   "cell_type": "code",
   "execution_count": 16,
   "metadata": {},
   "outputs": [
    {
     "data": {
      "text/plain": [
       "\n",
       "pAnnData object\n",
       "Protein (shape: 60 files by 1571 proteins)\n",
       "obs: Sample, method, duration, type\n",
       "var: Protein FDR Confidence: Combined, Master, Accession, Description, Exp. q-value: Combined...\n",
       "\n",
       "Peptide (shape: 60 files by 6352 peptides)\n",
       "obs: Sample, method, duration, type\n",
       "var: Modifications, Qvality PEP, Qvality q-value, # Protein Groups, # Proteins...\n",
       "\n",
       "RS (shape: 1571 proteins by 6352 peptides)\n"
      ]
     },
     "execution_count": 16,
     "metadata": {},
     "output_type": "execute_result"
    }
   ],
   "source": [
    "pdata"
   ]
  },
  {
   "cell_type": "code",
   "execution_count": 158,
   "metadata": {
    "metadata": {}
   },
   "outputs": [
    {
     "data": {
      "text/plain": [
       "pAnnData object\n",
       "Protein (shape: (60, 1571))\n",
       "AnnData object with n_obs × n_vars = 60 × 1571\n",
       "    obs: 'Sample', 'method', 'duration', 'type'\n",
       "    var: 'Protein FDR Confidence: Combined', 'Master', 'Accession', 'Description', 'Exp. q-value: Combined', 'Sum PEP Score', 'Coverage [%]', '# Peptides', '# PSMs', '# Unique Peptides', '# AAs', 'MW [kDa]', 'calc. pI', 'Score Sequest HT: Sequest HT', '# Peptides (by Search Engine): Sequest HT', 'Biological Process', 'Cellular Component', 'Molecular Function', 'Pfam IDs', 'Entrez Gene ID', 'Gene Symbol', 'Gene ID', 'Ensembl Gene ID', 'Reactome Pathways', 'WikiPathways', '# Protein Pathway Groups', '# Razor Peptides'\n",
       "Peptide (shape: (60, 6352))\n",
       "AnnData object with n_obs × n_vars = 60 × 6352\n",
       "RS (shape: (1571, 6352))"
      ]
     },
     "execution_count": 158,
     "metadata": {},
     "output_type": "execute_result"
    }
   ],
   "source": [
    "pdata"
   ]
  },
  {
   "cell_type": "code",
   "execution_count": 62,
   "metadata": {
    "metadata": {}
   },
   "outputs": [],
   "source": [
    "# DIA-NN\n",
    "\n",
    "# \"Run\" = file names\n",
    "# \"Precursor.Id\" = peptide unique identifier \n",
    "# \"Precursor.Translated\" = peptide abundance\n",
    "# \"Protein.Group\" = protein unique identifier\n",
    "# \"PG.MaxLFQ\" = protein abundance\n",
    "# \"Genes\" = gene name \n",
    "\n",
    "# ???? things to consider:\n",
    "# figure out what the difference is btw PG.MaxLFQ and Genes.MaxLFQ.Unique - ask some DIANN ppl maybe\n",
    "\n",
    "# -----------------------------\n",
    "# import DIA-NN test file\n",
    "report_all = pd.read_csv('report.tsv', sep='\\t')\n",
    "\n",
    "# -----------------------------\n",
    "# PEPTIDE DATA\n",
    "# pep_X: sparse data matrix\n",
    "pep_X_pivot = report_all.pivot_table(index='Precursor.Id', columns='Run', values='Precursor.Translated', aggfunc='first')\n",
    "pep_X_pivot.fillna(0, inplace=True)\n",
    "pep_X = sparse.csr_matrix(pep_X_pivot.values)\n",
    "# pep_var: peptide sequence\n",
    "pep_var = pep_X_pivot.index.values\n",
    "# pep_obs: file names\n",
    "pep_obs = pep_X_pivot.columns.values\n",
    "\n",
    "# -----------------------------\n",
    "# PROTEIN DATA\n",
    "# prot_X: sparse data matrix\n",
    "prot_X_pivot = report_all.pivot_table(index='Protein.Group', columns='Run', values='PG.MaxLFQ', aggfunc='first')\n",
    "prot_X_pivot.fillna(0, inplace=True)\n",
    "prot_X = sparse.csr_matrix(prot_X_pivot.values)\n",
    "# prot_var_names: protein names\n",
    "prot_var_names = prot_X_pivot.index.values\n",
    "# prot_obs: file names\n",
    "prot_obs_names = prot_X_pivot.columns.values\n"
   ]
  },
  {
   "cell_type": "code",
   "execution_count": 65,
   "metadata": {
    "metadata": {}
   },
   "outputs": [],
   "source": [
    "# -----------------------------\n",
    "# RS DATA\n",
    "# rs: protein x peptide relational data\n",
    "pep_prot_list = report_all.drop_duplicates(subset=['Precursor.Id'])['Protein.Group'].str.split('; ')\n",
    "mlb = MultiLabelBinarizer()\n",
    "rs = mlb.fit_transform(pep_prot_list)\n",
    "index_dict = {protein: index for index, protein in enumerate(mlb.classes_)}\n",
    "reorder_indices = [index_dict[protein] for protein in prot_var]\n",
    "rs = rs[:, reorder_indices]"
   ]
  },
  {
   "cell_type": "code",
   "execution_count": 49,
   "metadata": {
    "metadata": {}
   },
   "outputs": [
    {
     "data": {
      "text/plain": [
       "array([[0, 0, 0, ..., 0, 0, 0],\n",
       "       [0, 0, 0, ..., 0, 0, 0],\n",
       "       [0, 0, 0, ..., 0, 0, 0],\n",
       "       ...,\n",
       "       [0, 0, 0, ..., 0, 0, 0],\n",
       "       [0, 0, 0, ..., 0, 0, 0],\n",
       "       [0, 0, 0, ..., 0, 0, 0]])"
      ]
     },
     "execution_count": 49,
     "metadata": {},
     "output_type": "execute_result"
    }
   ],
   "source": [
    "rs"
   ]
  },
  {
   "cell_type": "code",
   "execution_count": 66,
   "metadata": {
    "metadata": {}
   },
   "outputs": [],
   "source": [
    "# export rs as csv\n",
    "df = pd.DataFrame(rs, columns=prot_var, index=pep_var)\n",
    "df.to_csv('rs.csv')"
   ]
  }
 ],
 "metadata": {
  "kernelspec": {
   "display_name": "base",
   "language": "python",
   "name": "python3"
  },
  "language_info": {
   "codemirror_mode": {
    "name": "ipython",
    "version": 3
   },
   "file_extension": ".py",
   "mimetype": "text/x-python",
   "name": "python",
   "nbconvert_exporter": "python",
   "pygments_lexer": "ipython3",
   "version": "3.11.8"
  }
 },
 "nbformat": 4,
 "nbformat_minor": 2
}

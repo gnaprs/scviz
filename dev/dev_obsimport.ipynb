{
 "cells": [
  {
   "cell_type": "code",
   "execution_count": 1,
   "id": "69d9f975",
   "metadata": {},
   "outputs": [],
   "source": [
    "from scviz import pAnnData as pAnnData\n",
    "from scviz import plotting as scplt\n",
    "from scviz import utils as scutils\n",
    "import scanpy as sc\n",
    "\n",
    "import numpy as np\n",
    "import pandas as pd\n",
    "\n",
    "import matplotlib.pyplot as plt\n",
    "import seaborn as sns\n",
    "sns.set_theme(context='paper', style='ticks')\n",
    "\n",
    "import matplotlib.patches as mpatches\n",
    "import matplotlib.colors as mcolors\n",
    "from matplotlib.lines import Line2D\n",
    "\n",
    "from collections import Counter, defaultdict\n",
    "from typing import List, Optional, Tuple, Dict\n",
    "from pathlib import Path\n",
    "# import literal\n",
    "from typing import Literal\n",
    "\n",
    "import re"
   ]
  },
  {
   "cell_type": "code",
   "execution_count": 2,
   "id": "340d282b",
   "metadata": {},
   "outputs": [
    {
     "data": {
      "text/plain": [
       "{'uniform': True,\n",
       " 'n_tokens': [10],\n",
       " 'group_map': {'20240824_Aur60minDIA_S4_TH+-Anxa1+_Y2_slide9-10_2b_Mus_SNpc_C7.raw': '10-tokens',\n",
       "  \"20250429_Aur60minDIA_AA43_800_Y2_3'5um_GAD-_Mus_Cortex_G6.raw\": '10-tokens'}}"
      ]
     },
     "execution_count": 2,
     "metadata": {},
     "output_type": "execute_result"
    }
   ],
   "source": [
    "from scviz import obs_utils as obs_utils\n",
    "\n",
    "filenames = [\n",
    "    \"20240824_Aur60minDIA_S4_TH+-Anxa1+_Y2_slide9-10_2b_Mus_SNpc_C7.raw\",\n",
    "    \"20250429_Aur60minDIA_AA43_800_Y2_3'5um_GAD-_Mus_Cortex_G6.raw\"\n",
    "]\n",
    "\n",
    "obs_utils.analyze_filename_formats(filenames)"
   ]
  },
  {
   "cell_type": "code",
   "execution_count": null,
   "id": "f2bb59f4",
   "metadata": {},
   "outputs": [],
   "source": [
    "filenames = obs_utils.get_filenames(\n",
    "    \"pd_prot.txt\", source_type=\"pd\")"
   ]
  },
  {
   "cell_type": "code",
   "execution_count": 19,
   "id": "ca835517",
   "metadata": {},
   "outputs": [
    {
     "data": {
      "text/plain": [
       "['Sample, AS, kd',\n",
       " 'Sample, AS, kd',\n",
       " 'Sample, AS, kd',\n",
       " 'Sample, AS, sc',\n",
       " 'Sample, AS, sc',\n",
       " 'Sample, AS, sc',\n",
       " 'Sample, BE, kd',\n",
       " 'Sample, BE, kd',\n",
       " 'Sample, BE, kd',\n",
       " 'Sample, BE, sc',\n",
       " 'Sample, BE, sc',\n",
       " 'Sample, BE, sc']"
      ]
     },
     "execution_count": 19,
     "metadata": {},
     "output_type": "execute_result"
    }
   ],
   "source": [
    "filenames"
   ]
  },
  {
   "cell_type": "code",
   "execution_count": 2,
   "id": "8b5d7ec2",
   "metadata": {},
   "outputs": [
    {
     "name": "stdout",
     "output_type": "stream",
     "text": [
      "🔎 Auto-detecting '_' as delimiter from first filename.\n",
      "\n",
      "✅ Filenames are uniform. Using `suggest_obs_columns()` to recommend obs_columns...\n",
      "\n",
      "From filename: Marion_Hela200ng_LysC_20240321_QE_DIA_Mechtler_Aur60min_02\n",
      "Suggested .obs columns:\n",
      "  unknown??                 : Marion\n",
      "  amount                    : Hela200ng\n",
      "  amount                    : LysC\n",
      "  date                      : 20240321\n",
      "  unknown??                 : QE\n",
      "  acquisition               : DIA\n",
      "  unknown??                 : Mechtler\n",
      "  gradient                  : Aur60min\n",
      "  unknown??                 : 02\n",
      "Unrecognized token(s): ['Marion', 'QE', 'Mechtler', '02']\n",
      "Please manually label these.\n",
      "\n",
      "ℹ️ Suggested obs:\n",
      "obs_columns = ['<Marion?>', 'amount', 'amount', 'date', '<QE?>', 'acquisition', '<Mechtler?>', 'gradient', '<02?>']\n",
      "⚠️  Please review the suggested `obs_columns` above.\n",
      "   → If acceptable, rerun `import_data(..., obs_columns=...)` with this list.\n",
      "\n"
     ]
    },
    {
     "data": {
      "text/plain": [
       "({'uniform': True,\n",
       "  'n_tokens': [9],\n",
       "  'group_map': {'Marion_Hela200ng_LysC_20240321_QE_DIA_Mechtler_Aur60min_02': '9-tokens',\n",
       "   'Marion_Hela20ng_LysC_20240321_QE_DIA_Mechtler_Aur60min_02': '9-tokens',\n",
       "   'Marion_Hela2ng_LysC_20240321_QE_DIA_Mechtler_Aur60min_02': '9-tokens',\n",
       "   'Marion_Hela20ng_LysC_20240321_QE_DIA_Mechtler_Aur60min_01': '9-tokens',\n",
       "   'Marion_Hela200ng_LysC_20240321_QE_DIA_Mechtler_Aur60min_01': '9-tokens',\n",
       "   'Marion_Hela200pg_LysC_20240321_QE_DIA_Mechtler_Aur60min_01': '9-tokens',\n",
       "   'Marion_Hela2ng_LysC_20240321_QE_DIA_Mechtler_Aur60min_01': '9-tokens',\n",
       "   'Marion_Hela200pg_LysC_20240321_QE_DIA_Mechtler_Aur60min_03': '9-tokens',\n",
       "   'Marion_Hela200pg_LysC_20240321_QE_DIA_Mechtler_Aur60min_02': '9-tokens',\n",
       "   'Marion_Hela200ng_LysC_20240321_QE_DDA_Mechtler_Aur60min_01': '9-tokens'}},\n",
       " ['<Marion?>',\n",
       "  'amount',\n",
       "  'amount',\n",
       "  'date',\n",
       "  '<QE?>',\n",
       "  'acquisition',\n",
       "  '<Mechtler?>',\n",
       "  'gradient',\n",
       "  '<02?>'],\n",
       " None)"
      ]
     },
     "execution_count": 2,
     "metadata": {},
     "output_type": "execute_result"
    }
   ],
   "source": [
    "pAnnData.resolve_obs_columns(\"diann_short.tsv\", source_type=\"diann\")"
   ]
  }
 ],
 "metadata": {
  "kernelspec": {
   "display_name": "py311",
   "language": "python",
   "name": "python3"
  },
  "language_info": {
   "codemirror_mode": {
    "name": "ipython",
    "version": 3
   },
   "file_extension": ".py",
   "mimetype": "text/x-python",
   "name": "python",
   "nbconvert_exporter": "python",
   "pygments_lexer": "ipython3",
   "version": "3.11.8"
  }
 },
 "nbformat": 4,
 "nbformat_minor": 5
}

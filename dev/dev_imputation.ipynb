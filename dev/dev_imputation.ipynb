{
 "cells": [
  {
   "cell_type": "code",
   "execution_count": 1,
   "metadata": {},
   "outputs": [],
   "source": [
    "import numpy as np\n",
    "from sklearn.compose import ColumnTransformer\n",
    "from sklearn.impute import SimpleImputer\n",
    "from scviz import utils\n",
    "from scviz import setup\n",
    "\n",
    "# A = [[7,2,3],[4,np.nan,6],[10,5,np.nan],[np.nan,np.nan,2]]\n",
    "# print(A)\n",
    "# print(\"\\n\\n\")\n",
    "# column_trans = ColumnTransformer(\n",
    "# [('imp_col1', SimpleImputer(strategy='mean'), [1]),\n",
    "#  ('imp_col2', SimpleImputer(strategy='constant', fill_value=29), [2,3])],\n",
    "# remainder='passthrough')\n",
    "\n",
    "# print(column_trans.fit_transform(A)[:, [2,0,1]])"
   ]
  },
  {
   "cell_type": "code",
   "execution_count": null,
   "metadata": {},
   "outputs": [],
   "source": [
    "def impute(self, classes=None, layer=\"X\", method='mean', on='protein', set_X=True, **kwargs):\n",
    "    \"\"\"\n",
    "    Impute missing values across samples (globally or within classes) using SimpleImputer.\n",
    "\n",
    "    Parameters:\n",
    "        classes (str or list): Class columns in .obs to group by.\n",
    "        layer (str): Data layer to impute from.\n",
    "        method (str): 'mean', 'median', or 'min'.\n",
    "        on (str): 'protein' or 'peptide'.\n",
    "        set_X (bool): Whether to set .X to the imputed result.\n",
    "    \"\"\"\n",
    "    from sklearn.impute import SimpleImputer, KNNImputer\n",
    "    from scipy import sparse\n",
    "    from scviz import utils\n",
    "\n",
    "\n",
    "    if not self._check_data(on):\n",
    "        return\n",
    "\n",
    "    adata = self.prot if on == 'protein' else self.pep\n",
    "    if layer != \"X\" and layer not in adata.layers:\n",
    "        raise ValueError(f\"Layer '{layer}' not found in .{on}.\")\n",
    "\n",
    "    impute_data = adata.layers[layer] if layer != \"X\" else adata.X\n",
    "    was_sparse = sparse.issparse(impute_data)\n",
    "    impute_data = impute_data.toarray() if was_sparse else impute_data.copy()\n",
    "    original_data = impute_data.copy()\n",
    "\n",
    "    layer_name = f\"X_impute_{method}\"\n",
    "\n",
    "    if method not in {\"mean\", \"median\", \"min\",\"knn\"}:\n",
    "        raise ValueError(f\"Unsupported method: {method}\")\n",
    "\n",
    "    if classes is None:\n",
    "        # Global imputation\n",
    "        if method == 'min':\n",
    "            min_vals = np.nanmin(impute_data, axis=0)\n",
    "            min_vals = np.where(np.isnan(min_vals), 0, min_vals)\n",
    "            mask = np.isnan(impute_data)\n",
    "            impute_data[mask] = np.take(min_vals, np.where(mask)[1])\n",
    "        elif method == 'knn':\n",
    "            n_neighbors = kwargs.get('n_neighbors', 3)\n",
    "            imputer = KNNImputer(n_neighbors=n_neighbors)\n",
    "            impute_data = imputer.fit_transform(impute_data)\n",
    "        else:\n",
    "            imputer = SimpleImputer(strategy=method)\n",
    "            impute_data = imputer.fit_transform(impute_data)\n",
    "\n",
    "        print(f\"ℹ️ Global imputation using '{method}'. Layer saved as '{layer_name}'.\")\n",
    "\n",
    "    else:\n",
    "        # Group-wise imputation\n",
    "        if method == 'knn':\n",
    "            raise ValueError(\"KNN imputation is not supported for group-wise imputation.\")\n",
    "\n",
    "        sample_names = utils.get_samplenames(adata, classes)\n",
    "        sample_names = np.array(sample_names)\n",
    "        unique_groups = np.unique(sample_names)\n",
    "\n",
    "        for group in unique_groups:\n",
    "            idx = np.where(sample_names == group)[0]\n",
    "            group_data = impute_data[idx, :]\n",
    "\n",
    "            if method == 'min':\n",
    "                min_vals = np.nanmin(group_data, axis=0)\n",
    "                min_vals = np.where(np.isnan(min_vals), 0, min_vals)\n",
    "                mask = np.isnan(group_data)\n",
    "                group_data[mask] = np.take(min_vals, np.where(mask)[1])\n",
    "                imputed_group = group_data\n",
    "            else:\n",
    "                imputer = SimpleImputer(strategy=method)\n",
    "                imputed_group = imputer.fit_transform(group_data)\n",
    "\n",
    "            impute_data[idx, :] = imputed_group\n",
    "\n",
    "        print(f\"ℹ️ Group-wise imputation using '{method}' on class(es): {classes}. Layer saved as '{layer_name}'.\")\n",
    "\n",
    "    summary_lines = []\n",
    "    if classes is None:\n",
    "        num_imputed = np.sum(np.isnan(original_data) & ~np.isnan(impute_data))\n",
    "        summary_lines.append(f\"✅ {num_imputed} values imputed.\")\n",
    "    else:\n",
    "        sample_names = utils.get_samplenames(adata, classes)\n",
    "        sample_names = np.array(sample_names)\n",
    "        unique_groups = np.unique(sample_names)\n",
    "\n",
    "        counts_by_group = {}\n",
    "        for group in unique_groups:\n",
    "            idx = np.where(sample_names == group)[0]\n",
    "            before = original_data[idx, :]\n",
    "            after = impute_data[idx, :]\n",
    "            mask = np.isnan(before) & ~np.isnan(after)\n",
    "            counts_by_group[group] = np.sum(mask)\n",
    "\n",
    "        total = sum(counts_by_group.values())\n",
    "        summary_lines.append(f\"✅ {total} values imputed total.\")\n",
    "        for group, count in counts_by_group.items():\n",
    "            summary_lines.append(f\"   - {group}: {count} values\")\n",
    "\n",
    "    print(\"\\n\".join(summary_lines))\n",
    "\n",
    "    adata.layers[layer_name] = sparse.csr_matrix(impute_data) if was_sparse else impute_data\n",
    "\n",
    "    if set_X:\n",
    "        self.set_X(layer=layer_name, on=on)\n",
    "\n",
    "    self._history.append(\n",
    "        f\"{on}: Imputed layer '{layer}' using '{method}' (grouped by {classes if classes else 'ALL'}). Stored in '{layer_name}'.\"\n",
    "    )\n"
   ]
  },
  {
   "cell_type": "code",
   "execution_count": 3,
   "metadata": {},
   "outputs": [
    {
     "name": "stdout",
     "output_type": "stream",
     "text": [
      "1.4.2\n",
      "1.4.2\n"
     ]
    }
   ],
   "source": [
    "# check sckit-learn version\n",
    "from sklearn import __version__ as sklearn_version\n",
    "from packaging.version import parse as parse_version\n",
    "\n",
    "print(sklearn_version)\n",
    "print(parse_version(sklearn_version))"
   ]
  },
  {
   "cell_type": "code",
   "execution_count": 4,
   "metadata": {},
   "outputs": [],
   "source": [
    "import numpy as np\n",
    "import pandas as pd\n",
    "from anndata import AnnData\n",
    "from scipy import sparse\n",
    "\n",
    "# ---- STEP 1: Create toy data ----\n",
    "# 6 samples (obs), 4 proteins (var)\n",
    "X = np.array([\n",
    "    [1,    np.nan, 10,   100],   # BE_kd1\n",
    "    [2,    20,     np.nan, 200],  # BE_kd2\n",
    "    [np.nan, 30,   30,   np.nan], # BE_kd3\n",
    "    [100,  np.nan, 1000, 500],   # AS_sc1\n",
    "    [200, 400,     np.nan, np.nan], # AS_sc2\n",
    "    [np.nan, 600,  3000, 1500],  # AS_sc3\n",
    "])\n",
    "\n",
    "\n",
    "obs = pd.DataFrame({\n",
    "    \"cellline\": [\"BE\", \"BE\", \"BE\", \"AS\", \"AS\", \"AS\"],\n",
    "    \"treatment\": [\"kd\", \"kd\", \"kd\", \"sc\", \"sc\", \"sc\"]\n",
    "}, index=[f\"sample{i+1}\" for i in range(6)])\n",
    "\n",
    "var = pd.DataFrame(index=[f\"P{i+1}\" for i in range(4)])  # protein names\n",
    "\n",
    "adata = AnnData(X=X, obs=obs, var=var)\n",
    "\n",
    "# ---- STEP 2: Wrap in dummy pAnnData ----\n",
    "class DummyPAnnData:\n",
    "    def __init__(self, adata):\n",
    "        self.prot = adata\n",
    "        self.pep = None\n",
    "        self._history = []\n",
    "        \n",
    "    def _check_data(self, on):\n",
    "        return on == 'protein' and self.prot is not None\n",
    "\n",
    "    def set_X(self, layer=\"X\", on=\"protein\"):\n",
    "        adata = self.prot if on == \"protein\" else self.pep\n",
    "        adata.X = adata.layers[layer].copy()\n",
    "\n",
    "    impute = impute\n",
    "\n",
    "pdata = DummyPAnnData(adata)\n"
   ]
  },
  {
   "cell_type": "code",
   "execution_count": 5,
   "metadata": {},
   "outputs": [
    {
     "name": "stdout",
     "output_type": "stream",
     "text": [
      "ℹ️ Global imputation using 'mean'. Layer saved as 'X_impute_mean'.\n",
      "✅ 8 values imputed.\n"
     ]
    },
    {
     "data": {
      "text/plain": [
       "array([[1.000e+00, 2.625e+02, 1.000e+01, 1.000e+02],\n",
       "       [2.000e+00, 2.000e+01, 1.010e+03, 2.000e+02],\n",
       "       [7.575e+01, 3.000e+01, 3.000e+01, 5.750e+02],\n",
       "       [1.000e+02, 2.625e+02, 1.000e+03, 5.000e+02],\n",
       "       [2.000e+02, 4.000e+02, 1.010e+03, 5.750e+02],\n",
       "       [7.575e+01, 6.000e+02, 3.000e+03, 1.500e+03]])"
      ]
     },
     "execution_count": 5,
     "metadata": {},
     "output_type": "execute_result"
    }
   ],
   "source": [
    "pdata.impute(method='mean', set_X = False)\n",
    "pdata.prot.layers[\"X_impute_mean\"]"
   ]
  },
  {
   "cell_type": "code",
   "execution_count": 6,
   "metadata": {},
   "outputs": [
    {
     "name": "stdout",
     "output_type": "stream",
     "text": [
      "ℹ️ Group-wise imputation using 'mean' on class(es): ['cellline', 'treatment']. Layer saved as 'X_impute_mean'.\n",
      "✅ 8 values imputed total.\n",
      "   - AS, sc: 4 values\n",
      "   - BE, kd: 4 values\n",
      "\n",
      "✅ Imputed matrix:\n",
      "[[1.0e+00 2.5e+01 1.0e+01 1.0e+02]\n",
      " [2.0e+00 2.0e+01 2.0e+01 2.0e+02]\n",
      " [1.5e+00 3.0e+01 3.0e+01 1.5e+02]\n",
      " [1.0e+02 5.0e+02 1.0e+03 5.0e+02]\n",
      " [2.0e+02 4.0e+02 2.0e+03 1.0e+03]\n",
      " [1.5e+02 6.0e+02 3.0e+03 1.5e+03]]\n"
     ]
    }
   ],
   "source": [
    "pdata.impute(classes=[\"cellline\", \"treatment\"], method=\"mean\", set_X = False)\n",
    "print(\"\\n✅ Imputed matrix:\")\n",
    "print(np.round(pdata.prot.layers['X_impute_mean'], 1))\n"
   ]
  },
  {
   "cell_type": "code",
   "execution_count": 7,
   "metadata": {},
   "outputs": [
    {
     "name": "stdout",
     "output_type": "stream",
     "text": [
      "ℹ️ Group-wise imputation using 'min' on class(es): ['cellline', 'treatment']. Layer saved as 'X_impute_min'.\n",
      "✅ 8 values imputed total.\n",
      "   - AS, sc: 4 values\n",
      "   - BE, kd: 4 values\n",
      "\n",
      "✅ Imputed matrix:\n",
      "[[1.0e+00 2.0e+01 1.0e+01 1.0e+02]\n",
      " [2.0e+00 2.0e+01 1.0e+01 2.0e+02]\n",
      " [1.0e+00 3.0e+01 3.0e+01 1.0e+02]\n",
      " [1.0e+02 4.0e+02 1.0e+03 5.0e+02]\n",
      " [2.0e+02 4.0e+02 1.0e+03 5.0e+02]\n",
      " [1.0e+02 6.0e+02 3.0e+03 1.5e+03]]\n"
     ]
    }
   ],
   "source": [
    "pdata.impute(classes=[\"cellline\", \"treatment\"], method=\"min\", set_X = False)\n",
    "print(\"\\n✅ Imputed matrix:\")\n",
    "print(np.round(pdata.prot.layers['X_impute_min'], 1))\n"
   ]
  },
  {
   "cell_type": "code",
   "execution_count": 8,
   "metadata": {},
   "outputs": [
    {
     "name": "stdout",
     "output_type": "stream",
     "text": [
      "ℹ️ Global imputation using 'min'. Layer saved as 'X_impute_min'.\n",
      "✅ 8 values imputed.\n"
     ]
    },
    {
     "data": {
      "text/plain": [
       "array([[1.0e+00, 2.0e+01, 1.0e+01, 1.0e+02],\n",
       "       [2.0e+00, 2.0e+01, 1.0e+01, 2.0e+02],\n",
       "       [1.0e+00, 3.0e+01, 3.0e+01, 1.0e+02],\n",
       "       [1.0e+02, 2.0e+01, 1.0e+03, 5.0e+02],\n",
       "       [2.0e+02, 4.0e+02, 1.0e+01, 1.0e+02],\n",
       "       [1.0e+00, 6.0e+02, 3.0e+03, 1.5e+03]])"
      ]
     },
     "execution_count": 8,
     "metadata": {},
     "output_type": "execute_result"
    }
   ],
   "source": [
    "pdata.impute(method='min', set_X = False)\n",
    "pdata.prot.layers[\"X_impute_min\"]"
   ]
  },
  {
   "cell_type": "code",
   "execution_count": 10,
   "metadata": {},
   "outputs": [
    {
     "name": "stdout",
     "output_type": "stream",
     "text": [
      "ℹ️ Global imputation using 'knn'. Layer saved as 'X_impute_knn'.\n",
      "✅ 8 values imputed.\n"
     ]
    },
    {
     "data": {
      "text/plain": [
       "array([[1.00e+00, 2.50e+01, 1.00e+01, 1.00e+02],\n",
       "       [2.00e+00, 2.00e+01, 2.00e+01, 2.00e+02],\n",
       "       [1.50e+00, 3.00e+01, 3.00e+01, 1.50e+02],\n",
       "       [1.00e+02, 2.10e+02, 1.00e+03, 5.00e+02],\n",
       "       [2.00e+02, 4.00e+02, 5.05e+02, 3.00e+02],\n",
       "       [1.01e+02, 6.00e+02, 3.00e+03, 1.50e+03]])"
      ]
     },
     "execution_count": 10,
     "metadata": {},
     "output_type": "execute_result"
    }
   ],
   "source": [
    "pdata.impute(method='knn', set_X = False, n_neighbors=2)\n",
    "pdata.prot.layers[\"X_impute_knn\"]"
   ]
  },
  {
   "cell_type": "code",
   "execution_count": 6,
   "metadata": {},
   "outputs": [
    {
     "name": "stdout",
     "output_type": "stream",
     "text": [
      "Found 2 unique groups: ['AS_sc' 'BE_kd']\n",
      "\n",
      "🟦 Group: AS_sc (samples: [3 4 5])\n",
      " - Group shape: (3, 4)\n",
      "\n",
      "🟦 Group: BE_kd (samples: [0 1 2])\n",
      " - Group shape: (3, 4)\n",
      "\n",
      "✅ Final imputed matrix:\n",
      "[[1.0e+00 2.5e+01 1.0e+01 1.0e+02]\n",
      " [2.0e+00 2.0e+01 2.0e+01 2.0e+02]\n",
      " [1.5e+00 3.0e+01 3.0e+01 1.5e+02]\n",
      " [1.0e+02 5.0e+02 1.0e+03 5.0e+02]\n",
      " [2.0e+02 4.0e+02 2.0e+03 1.0e+03]\n",
      " [1.5e+02 6.0e+02 3.0e+03 1.5e+03]]\n"
     ]
    }
   ],
   "source": [
    "from sklearn.impute import SimpleImputer\n",
    "import numpy as np\n",
    "\n",
    "# Original untouched matrix\n",
    "X = pdata.prot.X.copy()\n",
    "\n",
    "# Correct grouping: each group is defined by cellline + treatment\n",
    "sample_names = pdata.prot.obs[\"cellline\"] + \"_\" + pdata.prot.obs[\"treatment\"]\n",
    "sample_names = sample_names.values\n",
    "\n",
    "unique_groups = np.unique(sample_names)\n",
    "print(f\"Found {len(unique_groups)} unique groups: {unique_groups}\")\n",
    "\n",
    "# We'll make a new matrix to store the results\n",
    "X_imputed = X.copy()\n",
    "\n",
    "for group in unique_groups:\n",
    "    idx = np.where(sample_names == group)[0]\n",
    "    print(f\"\\n🟦 Group: {group} (samples: {idx})\")\n",
    "\n",
    "    group_data = X[idx, :]             # shape: (n_samples_in_group, n_proteins)\n",
    "    print(f\" - Group shape: {group_data.shape}\")\n",
    "\n",
    "    imputer = SimpleImputer(strategy=\"mean\")  # Can also be 'median'\n",
    "    imputed_group = imputer.fit_transform(group_data)\n",
    "\n",
    "    # Store the imputed values in correct rows\n",
    "    X_imputed[idx, :] = imputed_group\n",
    "\n",
    "print(\"\\n✅ Final imputed matrix:\")\n",
    "print(np.round(X_imputed, 1))\n"
   ]
  },
  {
   "cell_type": "code",
   "execution_count": 22,
   "metadata": {},
   "outputs": [
    {
     "name": "stdout",
     "output_type": "stream",
     "text": [
      "\n",
      "✅ Final imputed matrix:\n",
      "[[1.0e+00 2.5e+01 1.0e+01 1.0e+02]\n",
      " [2.0e+00 2.0e+01 2.0e+01 2.0e+02]\n",
      " [1.5e+00 3.0e+01 3.0e+01 1.5e+02]\n",
      " [1.0e+02 5.0e+02 1.0e+03 5.0e+02]\n",
      " [2.0e+02 4.0e+02 2.0e+03 1.0e+03]\n",
      " [1.5e+02 6.0e+02 3.0e+03 1.5e+03]]\n"
     ]
    }
   ],
   "source": [
    "from sklearn.impute import SimpleImputer\n",
    "import numpy as np\n",
    "import pandas as pd\n",
    "\n",
    "# Custom test matrix, shape (6 samples × 4 proteins)\n",
    "X = np.array([\n",
    "    [1,    np.nan, 10,   100],   # BE_kd1\n",
    "    [2,    20,     np.nan, 200],  # BE_kd2\n",
    "    [np.nan, 30,   30,   np.nan], # BE_kd3\n",
    "    [100,  np.nan, 1000, 500],   # AS_sc1\n",
    "    [200, 400,     np.nan, np.nan], # AS_sc2\n",
    "    [np.nan, 600,  3000, 1500],  # AS_sc3\n",
    "])\n",
    "\n",
    "obs = pd.DataFrame({\n",
    "    \"cellline\": [\"BE\", \"BE\", \"BE\", \"AS\", \"AS\", \"AS\"],\n",
    "    \"treatment\": [\"kd\", \"kd\", \"kd\", \"sc\", \"sc\", \"sc\"]\n",
    "}, index=[f\"sample{i+1}\" for i in range(6)])\n",
    "\n",
    "# Create group labels\n",
    "sample_names = obs[\"cellline\"] + \"_\" + obs[\"treatment\"]\n",
    "unique_groups = sample_names.unique()\n",
    "\n",
    "X_imputed = X.copy()\n",
    "\n",
    "for group in unique_groups:\n",
    "    idx = np.where(sample_names == group)[0]\n",
    "    group_data = X[idx, :]  # shape: (n_samples, n_proteins)\n",
    "\n",
    "    imputer = SimpleImputer(strategy=\"mean\")\n",
    "    imputed_group = imputer.fit_transform(group_data)\n",
    "\n",
    "    X_imputed[idx, :] = imputed_group\n",
    "\n",
    "print(\"\\n✅ Final imputed matrix:\")\n",
    "print(np.round(X_imputed, 1))\n"
   ]
  }
 ],
 "metadata": {
  "kernelspec": {
   "display_name": "py311",
   "language": "python",
   "name": "python3"
  },
  "language_info": {
   "codemirror_mode": {
    "name": "ipython",
    "version": 3
   },
   "file_extension": ".py",
   "mimetype": "text/x-python",
   "name": "python",
   "nbconvert_exporter": "python",
   "pygments_lexer": "ipython3",
   "version": "3.11.8"
  }
 },
 "nbformat": 4,
 "nbformat_minor": 2
}
